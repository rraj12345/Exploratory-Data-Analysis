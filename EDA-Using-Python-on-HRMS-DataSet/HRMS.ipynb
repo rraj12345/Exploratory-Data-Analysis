{
  "cells": [
    {
      "cell_type": "markdown",
      "id": "a8da83c4",
      "metadata": {
        "id": "a8da83c4",
        "papermill": {
          "duration": 0.018585,
          "end_time": "2023-09-14T15:24:46.393607",
          "exception": false,
          "start_time": "2023-09-14T15:24:46.375022",
          "status": "completed"
        },
        "tags": []
      },
      "source": [
        "# **HR Analytics - Employees Engagement**\n",
        "\n",
        "**In this EDA project we will performing HR Analytics - Employees Engagement Analysis which is present in kaggle platform.In this EDA Project we will analyze and visualize our dataset.**\n",
        "\n",
        "\n",
        "\n",
        "\n",
        "* **The job role of a HR is not that easy as it seems from the outside**\n",
        "\n",
        "* **The HR's have to actively participate in the recruitment process, helping employees with their issues, maintaining positive work environment, analysing the performance and efficiency, and many more**\n",
        "\n",
        "* **Among all the job responsibilites of an HR, evaluating the performance and efficiency of the employees is considered the most difficult task**\n",
        "\n",
        "* **The difficulty level of this task is directly proportional to the no. of employees who work under that particular HR**\n",
        "\n",
        "* **Thus, to deal with this, we have come with an Exploratory Data Analysis (EDA) project**\n",
        "\n",
        "* **Here, we'll be performing different analysis and visualizations using the Employees Enagagment Dataset to obtain some valuable insights**"
      ]
    },
    {
      "cell_type": "markdown",
      "id": "5179c233",
      "metadata": {
        "id": "5179c233",
        "papermill": {
          "duration": 0.016482,
          "end_time": "2023-09-14T15:24:46.427692",
          "exception": false,
          "start_time": "2023-09-14T15:24:46.411210",
          "status": "completed"
        },
        "tags": []
      },
      "source": [
        "# **Importing Libraries**"
      ]
    },
    {
      "cell_type": "markdown",
      "id": "7b1150ce",
      "metadata": {
        "id": "7b1150ce",
        "papermill": {
          "duration": 0.016637,
          "end_time": "2023-09-14T15:24:46.461415",
          "exception": false,
          "start_time": "2023-09-14T15:24:46.444778",
          "status": "completed"
        },
        "tags": []
      },
      "source": [
        "**For the analysis, we have to immport some python libraries. Thus, we'll import pandas for analysis and matplotlib for the visualization purpose**"
      ]
    },
    {
      "cell_type": "code",
      "execution_count": null,
      "id": "U1R3XQUm3ZNG",
      "metadata": {
        "id": "U1R3XQUm3ZNG"
      },
      "outputs": [],
      "source": [
        "# from google.colab import drive\n",
        "# drive.mount('/content/drive')"
      ]
    },
    {
      "cell_type": "code",
      "execution_count": null,
      "id": "caba7c3b",
      "metadata": {
        "execution": {
          "iopub.execute_input": "2023-09-14T15:24:46.498925Z",
          "iopub.status.busy": "2023-09-14T15:24:46.498128Z",
          "iopub.status.idle": "2023-09-14T15:24:48.454122Z",
          "shell.execute_reply": "2023-09-14T15:24:48.452974Z"
        },
        "id": "caba7c3b",
        "papermill": {
          "duration": 1.977457,
          "end_time": "2023-09-14T15:24:48.456837",
          "exception": false,
          "start_time": "2023-09-14T15:24:46.479380",
          "status": "completed"
        },
        "tags": []
      },
      "outputs": [],
      "source": [
        "import numpy as np\n",
        "import pandas as pd\n",
        "import matplotlib.pyplot as plt\n",
        "import seaborn as sns"
      ]
    },
    {
      "cell_type": "markdown",
      "id": "32449d6b",
      "metadata": {
        "id": "32449d6b",
        "papermill": {
          "duration": 0.019048,
          "end_time": "2023-09-14T15:24:48.493182",
          "exception": false,
          "start_time": "2023-09-14T15:24:48.474134",
          "status": "completed"
        },
        "tags": []
      },
      "source": [
        "# **Importing Dataset**"
      ]
    },
    {
      "cell_type": "code",
      "execution_count": null,
      "id": "74aff112",
      "metadata": {
        "colab": {
          "base_uri": "https://localhost:8080/",
          "height": 583
        },
        "execution": {
          "iopub.execute_input": "2023-09-14T15:24:48.530644Z",
          "iopub.status.busy": "2023-09-14T15:24:48.529804Z",
          "iopub.status.idle": "2023-09-14T15:24:48.602897Z",
          "shell.execute_reply": "2023-09-14T15:24:48.601743Z"
        },
        "id": "74aff112",
        "outputId": "72c0ce21-25dc-4a02-eafe-5ccd014fa6b3",
        "papermill": {
          "duration": 0.095047,
          "end_time": "2023-09-14T15:24:48.606219",
          "exception": false,
          "start_time": "2023-09-14T15:24:48.511172",
          "status": "completed"
        },
        "tags": []
      },
      "outputs": [
        {
          "data": {
            "text/html": [
              "<div>\n",
              "<style scoped>\n",
              "    .dataframe tbody tr th:only-of-type {\n",
              "        vertical-align: middle;\n",
              "    }\n",
              "\n",
              "    .dataframe tbody tr th {\n",
              "        vertical-align: top;\n",
              "    }\n",
              "\n",
              "    .dataframe thead th {\n",
              "        text-align: right;\n",
              "    }\n",
              "</style>\n",
              "<table border=\"1\" class=\"dataframe\">\n",
              "  <thead>\n",
              "    <tr style=\"text-align: right;\">\n",
              "      <th></th>\n",
              "      <th>Employee_Name</th>\n",
              "      <th>EmpID</th>\n",
              "      <th>MarriedID</th>\n",
              "      <th>MaritalStatusID</th>\n",
              "      <th>GenderID</th>\n",
              "      <th>EmpStatusID</th>\n",
              "      <th>DeptID</th>\n",
              "      <th>PerfScoreID</th>\n",
              "      <th>FromDiversityJobFairID</th>\n",
              "      <th>Salary</th>\n",
              "      <th>...</th>\n",
              "      <th>ManagerName</th>\n",
              "      <th>ManagerID</th>\n",
              "      <th>RecruitmentSource</th>\n",
              "      <th>PerformanceScore</th>\n",
              "      <th>EngagementSurvey</th>\n",
              "      <th>EmpSatisfaction</th>\n",
              "      <th>SpecialProjectsCount</th>\n",
              "      <th>LastPerformanceReview_Date</th>\n",
              "      <th>DaysLateLast30</th>\n",
              "      <th>Absences</th>\n",
              "    </tr>\n",
              "  </thead>\n",
              "  <tbody>\n",
              "    <tr>\n",
              "      <th>0</th>\n",
              "      <td>Adinolfi, Wilson  K</td>\n",
              "      <td>10026</td>\n",
              "      <td>0</td>\n",
              "      <td>0</td>\n",
              "      <td>1</td>\n",
              "      <td>1</td>\n",
              "      <td>5</td>\n",
              "      <td>4</td>\n",
              "      <td>0</td>\n",
              "      <td>62506</td>\n",
              "      <td>...</td>\n",
              "      <td>Michael Albert</td>\n",
              "      <td>22.0</td>\n",
              "      <td>LinkedIn</td>\n",
              "      <td>Exceeds</td>\n",
              "      <td>4.60</td>\n",
              "      <td>5</td>\n",
              "      <td>0</td>\n",
              "      <td>1/17/2019</td>\n",
              "      <td>0</td>\n",
              "      <td>1</td>\n",
              "    </tr>\n",
              "    <tr>\n",
              "      <th>1</th>\n",
              "      <td>Ait Sidi, Karthikeyan</td>\n",
              "      <td>10084</td>\n",
              "      <td>1</td>\n",
              "      <td>1</td>\n",
              "      <td>1</td>\n",
              "      <td>5</td>\n",
              "      <td>3</td>\n",
              "      <td>3</td>\n",
              "      <td>0</td>\n",
              "      <td>104437</td>\n",
              "      <td>...</td>\n",
              "      <td>Simon Roup</td>\n",
              "      <td>4.0</td>\n",
              "      <td>Indeed</td>\n",
              "      <td>Fully Meets</td>\n",
              "      <td>4.96</td>\n",
              "      <td>3</td>\n",
              "      <td>6</td>\n",
              "      <td>2/24/2016</td>\n",
              "      <td>0</td>\n",
              "      <td>17</td>\n",
              "    </tr>\n",
              "    <tr>\n",
              "      <th>2</th>\n",
              "      <td>Akinkuolie, Sarah</td>\n",
              "      <td>10196</td>\n",
              "      <td>1</td>\n",
              "      <td>1</td>\n",
              "      <td>0</td>\n",
              "      <td>5</td>\n",
              "      <td>5</td>\n",
              "      <td>3</td>\n",
              "      <td>0</td>\n",
              "      <td>64955</td>\n",
              "      <td>...</td>\n",
              "      <td>Kissy Sullivan</td>\n",
              "      <td>20.0</td>\n",
              "      <td>LinkedIn</td>\n",
              "      <td>Fully Meets</td>\n",
              "      <td>3.02</td>\n",
              "      <td>3</td>\n",
              "      <td>0</td>\n",
              "      <td>5/15/2012</td>\n",
              "      <td>0</td>\n",
              "      <td>3</td>\n",
              "    </tr>\n",
              "    <tr>\n",
              "      <th>3</th>\n",
              "      <td>Alagbe,Trina</td>\n",
              "      <td>10088</td>\n",
              "      <td>1</td>\n",
              "      <td>1</td>\n",
              "      <td>0</td>\n",
              "      <td>1</td>\n",
              "      <td>5</td>\n",
              "      <td>3</td>\n",
              "      <td>0</td>\n",
              "      <td>64991</td>\n",
              "      <td>...</td>\n",
              "      <td>Elijiah Gray</td>\n",
              "      <td>16.0</td>\n",
              "      <td>Indeed</td>\n",
              "      <td>Fully Meets</td>\n",
              "      <td>4.84</td>\n",
              "      <td>5</td>\n",
              "      <td>0</td>\n",
              "      <td>1/3/2019</td>\n",
              "      <td>0</td>\n",
              "      <td>15</td>\n",
              "    </tr>\n",
              "    <tr>\n",
              "      <th>4</th>\n",
              "      <td>Anderson, Carol</td>\n",
              "      <td>10069</td>\n",
              "      <td>0</td>\n",
              "      <td>2</td>\n",
              "      <td>0</td>\n",
              "      <td>5</td>\n",
              "      <td>5</td>\n",
              "      <td>3</td>\n",
              "      <td>0</td>\n",
              "      <td>50825</td>\n",
              "      <td>...</td>\n",
              "      <td>Webster Butler</td>\n",
              "      <td>39.0</td>\n",
              "      <td>Google Search</td>\n",
              "      <td>Fully Meets</td>\n",
              "      <td>5.00</td>\n",
              "      <td>4</td>\n",
              "      <td>0</td>\n",
              "      <td>2/1/2016</td>\n",
              "      <td>0</td>\n",
              "      <td>2</td>\n",
              "    </tr>\n",
              "    <tr>\n",
              "      <th>...</th>\n",
              "      <td>...</td>\n",
              "      <td>...</td>\n",
              "      <td>...</td>\n",
              "      <td>...</td>\n",
              "      <td>...</td>\n",
              "      <td>...</td>\n",
              "      <td>...</td>\n",
              "      <td>...</td>\n",
              "      <td>...</td>\n",
              "      <td>...</td>\n",
              "      <td>...</td>\n",
              "      <td>...</td>\n",
              "      <td>...</td>\n",
              "      <td>...</td>\n",
              "      <td>...</td>\n",
              "      <td>...</td>\n",
              "      <td>...</td>\n",
              "      <td>...</td>\n",
              "      <td>...</td>\n",
              "      <td>...</td>\n",
              "      <td>...</td>\n",
              "    </tr>\n",
              "    <tr>\n",
              "      <th>306</th>\n",
              "      <td>Woodson, Jason</td>\n",
              "      <td>10135</td>\n",
              "      <td>0</td>\n",
              "      <td>0</td>\n",
              "      <td>1</td>\n",
              "      <td>1</td>\n",
              "      <td>5</td>\n",
              "      <td>3</td>\n",
              "      <td>0</td>\n",
              "      <td>65893</td>\n",
              "      <td>...</td>\n",
              "      <td>Kissy Sullivan</td>\n",
              "      <td>20.0</td>\n",
              "      <td>LinkedIn</td>\n",
              "      <td>Fully Meets</td>\n",
              "      <td>4.07</td>\n",
              "      <td>4</td>\n",
              "      <td>0</td>\n",
              "      <td>2/28/2019</td>\n",
              "      <td>0</td>\n",
              "      <td>13</td>\n",
              "    </tr>\n",
              "    <tr>\n",
              "      <th>307</th>\n",
              "      <td>Ybarra, Catherine</td>\n",
              "      <td>10301</td>\n",
              "      <td>0</td>\n",
              "      <td>0</td>\n",
              "      <td>0</td>\n",
              "      <td>5</td>\n",
              "      <td>5</td>\n",
              "      <td>1</td>\n",
              "      <td>0</td>\n",
              "      <td>48513</td>\n",
              "      <td>...</td>\n",
              "      <td>Brannon Miller</td>\n",
              "      <td>12.0</td>\n",
              "      <td>Google Search</td>\n",
              "      <td>PIP</td>\n",
              "      <td>3.20</td>\n",
              "      <td>2</td>\n",
              "      <td>0</td>\n",
              "      <td>9/2/2015</td>\n",
              "      <td>5</td>\n",
              "      <td>4</td>\n",
              "    </tr>\n",
              "    <tr>\n",
              "      <th>308</th>\n",
              "      <td>Zamora, Jennifer</td>\n",
              "      <td>10010</td>\n",
              "      <td>0</td>\n",
              "      <td>0</td>\n",
              "      <td>0</td>\n",
              "      <td>1</td>\n",
              "      <td>3</td>\n",
              "      <td>4</td>\n",
              "      <td>0</td>\n",
              "      <td>220450</td>\n",
              "      <td>...</td>\n",
              "      <td>Janet King</td>\n",
              "      <td>2.0</td>\n",
              "      <td>Employee Referral</td>\n",
              "      <td>Exceeds</td>\n",
              "      <td>4.60</td>\n",
              "      <td>5</td>\n",
              "      <td>6</td>\n",
              "      <td>2/21/2019</td>\n",
              "      <td>0</td>\n",
              "      <td>16</td>\n",
              "    </tr>\n",
              "    <tr>\n",
              "      <th>309</th>\n",
              "      <td>Zhou, Julia</td>\n",
              "      <td>10043</td>\n",
              "      <td>0</td>\n",
              "      <td>0</td>\n",
              "      <td>0</td>\n",
              "      <td>1</td>\n",
              "      <td>3</td>\n",
              "      <td>3</td>\n",
              "      <td>0</td>\n",
              "      <td>89292</td>\n",
              "      <td>...</td>\n",
              "      <td>Simon Roup</td>\n",
              "      <td>4.0</td>\n",
              "      <td>Employee Referral</td>\n",
              "      <td>Fully Meets</td>\n",
              "      <td>5.00</td>\n",
              "      <td>3</td>\n",
              "      <td>5</td>\n",
              "      <td>2/1/2019</td>\n",
              "      <td>0</td>\n",
              "      <td>11</td>\n",
              "    </tr>\n",
              "    <tr>\n",
              "      <th>310</th>\n",
              "      <td>Zima, Colleen</td>\n",
              "      <td>10271</td>\n",
              "      <td>0</td>\n",
              "      <td>4</td>\n",
              "      <td>0</td>\n",
              "      <td>1</td>\n",
              "      <td>5</td>\n",
              "      <td>3</td>\n",
              "      <td>0</td>\n",
              "      <td>45046</td>\n",
              "      <td>...</td>\n",
              "      <td>David Stanley</td>\n",
              "      <td>14.0</td>\n",
              "      <td>LinkedIn</td>\n",
              "      <td>Fully Meets</td>\n",
              "      <td>4.50</td>\n",
              "      <td>5</td>\n",
              "      <td>0</td>\n",
              "      <td>1/30/2019</td>\n",
              "      <td>0</td>\n",
              "      <td>2</td>\n",
              "    </tr>\n",
              "  </tbody>\n",
              "</table>\n",
              "<p>311 rows × 36 columns</p>\n",
              "</div>"
            ],
            "text/plain": [
              "                Employee_Name  EmpID  MarriedID  MaritalStatusID  GenderID  \\\n",
              "0         Adinolfi, Wilson  K  10026          0                0         1   \n",
              "1    Ait Sidi, Karthikeyan     10084          1                1         1   \n",
              "2           Akinkuolie, Sarah  10196          1                1         0   \n",
              "3                Alagbe,Trina  10088          1                1         0   \n",
              "4            Anderson, Carol   10069          0                2         0   \n",
              "..                        ...    ...        ...              ...       ...   \n",
              "306            Woodson, Jason  10135          0                0         1   \n",
              "307        Ybarra, Catherine   10301          0                0         0   \n",
              "308          Zamora, Jennifer  10010          0                0         0   \n",
              "309               Zhou, Julia  10043          0                0         0   \n",
              "310             Zima, Colleen  10271          0                4         0   \n",
              "\n",
              "     EmpStatusID  DeptID  PerfScoreID  FromDiversityJobFairID  Salary  ...  \\\n",
              "0              1       5            4                       0   62506  ...   \n",
              "1              5       3            3                       0  104437  ...   \n",
              "2              5       5            3                       0   64955  ...   \n",
              "3              1       5            3                       0   64991  ...   \n",
              "4              5       5            3                       0   50825  ...   \n",
              "..           ...     ...          ...                     ...     ...  ...   \n",
              "306            1       5            3                       0   65893  ...   \n",
              "307            5       5            1                       0   48513  ...   \n",
              "308            1       3            4                       0  220450  ...   \n",
              "309            1       3            3                       0   89292  ...   \n",
              "310            1       5            3                       0   45046  ...   \n",
              "\n",
              "        ManagerName  ManagerID  RecruitmentSource PerformanceScore  \\\n",
              "0    Michael Albert       22.0           LinkedIn          Exceeds   \n",
              "1        Simon Roup        4.0             Indeed      Fully Meets   \n",
              "2    Kissy Sullivan       20.0           LinkedIn      Fully Meets   \n",
              "3      Elijiah Gray       16.0             Indeed      Fully Meets   \n",
              "4    Webster Butler       39.0      Google Search      Fully Meets   \n",
              "..              ...        ...                ...              ...   \n",
              "306  Kissy Sullivan       20.0           LinkedIn      Fully Meets   \n",
              "307  Brannon Miller       12.0      Google Search              PIP   \n",
              "308      Janet King        2.0  Employee Referral          Exceeds   \n",
              "309      Simon Roup        4.0  Employee Referral      Fully Meets   \n",
              "310   David Stanley       14.0           LinkedIn      Fully Meets   \n",
              "\n",
              "     EngagementSurvey EmpSatisfaction SpecialProjectsCount  \\\n",
              "0                4.60               5                    0   \n",
              "1                4.96               3                    6   \n",
              "2                3.02               3                    0   \n",
              "3                4.84               5                    0   \n",
              "4                5.00               4                    0   \n",
              "..                ...             ...                  ...   \n",
              "306              4.07               4                    0   \n",
              "307              3.20               2                    0   \n",
              "308              4.60               5                    6   \n",
              "309              5.00               3                    5   \n",
              "310              4.50               5                    0   \n",
              "\n",
              "    LastPerformanceReview_Date DaysLateLast30 Absences  \n",
              "0                    1/17/2019              0        1  \n",
              "1                    2/24/2016              0       17  \n",
              "2                    5/15/2012              0        3  \n",
              "3                     1/3/2019              0       15  \n",
              "4                     2/1/2016              0        2  \n",
              "..                         ...            ...      ...  \n",
              "306                  2/28/2019              0       13  \n",
              "307                   9/2/2015              5        4  \n",
              "308                  2/21/2019              0       16  \n",
              "309                   2/1/2019              0       11  \n",
              "310                  1/30/2019              0        2  \n",
              "\n",
              "[311 rows x 36 columns]"
            ]
          },
          "execution_count": 3,
          "metadata": {},
          "output_type": "execute_result"
        }
      ],
      "source": [
        "df=pd.read_csv('HRDataset_v14.csv')\n",
        "df"
      ]
    },
    {
      "cell_type": "code",
      "execution_count": null,
      "id": "132e5edf",
      "metadata": {
        "colab": {
          "base_uri": "https://localhost:8080/"
        },
        "execution": {
          "iopub.execute_input": "2023-09-14T15:24:48.644459Z",
          "iopub.status.busy": "2023-09-14T15:24:48.644055Z",
          "iopub.status.idle": "2023-09-14T15:24:48.650694Z",
          "shell.execute_reply": "2023-09-14T15:24:48.649920Z"
        },
        "id": "132e5edf",
        "outputId": "472f190d-e52f-40bd-f492-79c2c48aa92a",
        "papermill": {
          "duration": 0.027902,
          "end_time": "2023-09-14T15:24:48.652735",
          "exception": false,
          "start_time": "2023-09-14T15:24:48.624833",
          "status": "completed"
        },
        "tags": []
      },
      "outputs": [
        {
          "data": {
            "text/plain": [
              "(311, 36)"
            ]
          },
          "execution_count": 4,
          "metadata": {},
          "output_type": "execute_result"
        }
      ],
      "source": [
        "df.shape"
      ]
    },
    {
      "cell_type": "code",
      "execution_count": null,
      "id": "b5772ba0",
      "metadata": {
        "colab": {
          "base_uri": "https://localhost:8080/"
        },
        "execution": {
          "iopub.execute_input": "2023-09-14T15:24:48.989923Z",
          "iopub.status.busy": "2023-09-14T15:24:48.989274Z",
          "iopub.status.idle": "2023-09-14T15:24:49.013791Z",
          "shell.execute_reply": "2023-09-14T15:24:49.012647Z"
        },
        "id": "b5772ba0",
        "outputId": "4634bb1e-def3-4b11-b736-0ed95e7c5cce",
        "papermill": {
          "duration": 0.048481,
          "end_time": "2023-09-14T15:24:49.016590",
          "exception": false,
          "start_time": "2023-09-14T15:24:48.968109",
          "status": "completed"
        },
        "tags": []
      },
      "outputs": [
        {
          "name": "stdout",
          "output_type": "stream",
          "text": [
            "<class 'pandas.core.frame.DataFrame'>\n",
            "RangeIndex: 311 entries, 0 to 310\n",
            "Data columns (total 36 columns):\n",
            " #   Column                      Non-Null Count  Dtype  \n",
            "---  ------                      --------------  -----  \n",
            " 0   Employee_Name               311 non-null    object \n",
            " 1   EmpID                       311 non-null    int64  \n",
            " 2   MarriedID                   311 non-null    int64  \n",
            " 3   MaritalStatusID             311 non-null    int64  \n",
            " 4   GenderID                    311 non-null    int64  \n",
            " 5   EmpStatusID                 311 non-null    int64  \n",
            " 6   DeptID                      311 non-null    int64  \n",
            " 7   PerfScoreID                 311 non-null    int64  \n",
            " 8   FromDiversityJobFairID      311 non-null    int64  \n",
            " 9   Salary                      311 non-null    int64  \n",
            " 10  Termd                       311 non-null    int64  \n",
            " 11  PositionID                  311 non-null    int64  \n",
            " 12  Position                    311 non-null    object \n",
            " 13  State                       311 non-null    object \n",
            " 14  Zip                         311 non-null    int64  \n",
            " 15  DOB                         311 non-null    object \n",
            " 16  Sex                         311 non-null    object \n",
            " 17  MaritalDesc                 311 non-null    object \n",
            " 18  CitizenDesc                 311 non-null    object \n",
            " 19  HispanicLatino              311 non-null    object \n",
            " 20  RaceDesc                    311 non-null    object \n",
            " 21  DateofHire                  311 non-null    object \n",
            " 22  DateofTermination           104 non-null    object \n",
            " 23  TermReason                  311 non-null    object \n",
            " 24  EmploymentStatus            311 non-null    object \n",
            " 25  Department                  311 non-null    object \n",
            " 26  ManagerName                 311 non-null    object \n",
            " 27  ManagerID                   303 non-null    float64\n",
            " 28  RecruitmentSource           311 non-null    object \n",
            " 29  PerformanceScore            311 non-null    object \n",
            " 30  EngagementSurvey            311 non-null    float64\n",
            " 31  EmpSatisfaction             311 non-null    int64  \n",
            " 32  SpecialProjectsCount        311 non-null    int64  \n",
            " 33  LastPerformanceReview_Date  311 non-null    object \n",
            " 34  DaysLateLast30              311 non-null    int64  \n",
            " 35  Absences                    311 non-null    int64  \n",
            "dtypes: float64(2), int64(16), object(18)\n",
            "memory usage: 87.6+ KB\n"
          ]
        }
      ],
      "source": [
        "df.info()"
      ]
    },
    {
      "cell_type": "markdown",
      "id": "c03e3e81",
      "metadata": {
        "id": "c03e3e81",
        "papermill": {
          "duration": 0.019148,
          "end_time": "2023-09-14T15:24:48.886177",
          "exception": false,
          "start_time": "2023-09-14T15:24:48.867029",
          "status": "completed"
        },
        "tags": []
      },
      "source": [
        "**The dataset we are using comprises of 311 rows and 35 columns, which is alright for our EDA project. Let us jump into some more details about the dataset we imported**"
      ]
    },
    {
      "cell_type": "code",
      "execution_count": null,
      "id": "53f88532",
      "metadata": {
        "colab": {
          "base_uri": "https://localhost:8080/",
          "height": 320
        },
        "execution": {
          "iopub.execute_input": "2023-09-14T15:24:49.058644Z",
          "iopub.status.busy": "2023-09-14T15:24:49.057931Z",
          "iopub.status.idle": "2023-09-14T15:24:49.121561Z",
          "shell.execute_reply": "2023-09-14T15:24:49.120451Z"
        },
        "id": "53f88532",
        "outputId": "50778b7c-9500-48e7-a2da-a0c28180545e",
        "papermill": {
          "duration": 0.088082,
          "end_time": "2023-09-14T15:24:49.124410",
          "exception": false,
          "start_time": "2023-09-14T15:24:49.036328",
          "status": "completed"
        },
        "tags": []
      },
      "outputs": [
        {
          "data": {
            "text/html": [
              "<div>\n",
              "<style scoped>\n",
              "    .dataframe tbody tr th:only-of-type {\n",
              "        vertical-align: middle;\n",
              "    }\n",
              "\n",
              "    .dataframe tbody tr th {\n",
              "        vertical-align: top;\n",
              "    }\n",
              "\n",
              "    .dataframe thead th {\n",
              "        text-align: right;\n",
              "    }\n",
              "</style>\n",
              "<table border=\"1\" class=\"dataframe\">\n",
              "  <thead>\n",
              "    <tr style=\"text-align: right;\">\n",
              "      <th></th>\n",
              "      <th>EmpID</th>\n",
              "      <th>MarriedID</th>\n",
              "      <th>MaritalStatusID</th>\n",
              "      <th>GenderID</th>\n",
              "      <th>EmpStatusID</th>\n",
              "      <th>DeptID</th>\n",
              "      <th>PerfScoreID</th>\n",
              "      <th>FromDiversityJobFairID</th>\n",
              "      <th>Salary</th>\n",
              "      <th>Termd</th>\n",
              "      <th>PositionID</th>\n",
              "      <th>Zip</th>\n",
              "      <th>ManagerID</th>\n",
              "      <th>EngagementSurvey</th>\n",
              "      <th>EmpSatisfaction</th>\n",
              "      <th>SpecialProjectsCount</th>\n",
              "      <th>DaysLateLast30</th>\n",
              "      <th>Absences</th>\n",
              "    </tr>\n",
              "  </thead>\n",
              "  <tbody>\n",
              "    <tr>\n",
              "      <th>count</th>\n",
              "      <td>311.000000</td>\n",
              "      <td>311.000000</td>\n",
              "      <td>311.000000</td>\n",
              "      <td>311.000000</td>\n",
              "      <td>311.000000</td>\n",
              "      <td>311.000000</td>\n",
              "      <td>311.000000</td>\n",
              "      <td>311.000000</td>\n",
              "      <td>311.000000</td>\n",
              "      <td>311.000000</td>\n",
              "      <td>311.000000</td>\n",
              "      <td>311.000000</td>\n",
              "      <td>303.000000</td>\n",
              "      <td>311.000000</td>\n",
              "      <td>311.000000</td>\n",
              "      <td>311.000000</td>\n",
              "      <td>311.000000</td>\n",
              "      <td>311.000000</td>\n",
              "    </tr>\n",
              "    <tr>\n",
              "      <th>mean</th>\n",
              "      <td>10156.000000</td>\n",
              "      <td>0.398714</td>\n",
              "      <td>0.810289</td>\n",
              "      <td>0.434084</td>\n",
              "      <td>2.392283</td>\n",
              "      <td>4.610932</td>\n",
              "      <td>2.977492</td>\n",
              "      <td>0.093248</td>\n",
              "      <td>69020.684887</td>\n",
              "      <td>0.334405</td>\n",
              "      <td>16.845659</td>\n",
              "      <td>6555.482315</td>\n",
              "      <td>14.570957</td>\n",
              "      <td>4.110000</td>\n",
              "      <td>3.890675</td>\n",
              "      <td>1.218650</td>\n",
              "      <td>0.414791</td>\n",
              "      <td>10.237942</td>\n",
              "    </tr>\n",
              "    <tr>\n",
              "      <th>std</th>\n",
              "      <td>89.922189</td>\n",
              "      <td>0.490423</td>\n",
              "      <td>0.943239</td>\n",
              "      <td>0.496435</td>\n",
              "      <td>1.794383</td>\n",
              "      <td>1.083487</td>\n",
              "      <td>0.587072</td>\n",
              "      <td>0.291248</td>\n",
              "      <td>25156.636930</td>\n",
              "      <td>0.472542</td>\n",
              "      <td>6.223419</td>\n",
              "      <td>16908.396884</td>\n",
              "      <td>8.078306</td>\n",
              "      <td>0.789938</td>\n",
              "      <td>0.909241</td>\n",
              "      <td>2.349421</td>\n",
              "      <td>1.294519</td>\n",
              "      <td>5.852596</td>\n",
              "    </tr>\n",
              "    <tr>\n",
              "      <th>min</th>\n",
              "      <td>10001.000000</td>\n",
              "      <td>0.000000</td>\n",
              "      <td>0.000000</td>\n",
              "      <td>0.000000</td>\n",
              "      <td>1.000000</td>\n",
              "      <td>1.000000</td>\n",
              "      <td>1.000000</td>\n",
              "      <td>0.000000</td>\n",
              "      <td>45046.000000</td>\n",
              "      <td>0.000000</td>\n",
              "      <td>1.000000</td>\n",
              "      <td>1013.000000</td>\n",
              "      <td>1.000000</td>\n",
              "      <td>1.120000</td>\n",
              "      <td>1.000000</td>\n",
              "      <td>0.000000</td>\n",
              "      <td>0.000000</td>\n",
              "      <td>1.000000</td>\n",
              "    </tr>\n",
              "    <tr>\n",
              "      <th>25%</th>\n",
              "      <td>10078.500000</td>\n",
              "      <td>0.000000</td>\n",
              "      <td>0.000000</td>\n",
              "      <td>0.000000</td>\n",
              "      <td>1.000000</td>\n",
              "      <td>5.000000</td>\n",
              "      <td>3.000000</td>\n",
              "      <td>0.000000</td>\n",
              "      <td>55501.500000</td>\n",
              "      <td>0.000000</td>\n",
              "      <td>18.000000</td>\n",
              "      <td>1901.500000</td>\n",
              "      <td>10.000000</td>\n",
              "      <td>3.690000</td>\n",
              "      <td>3.000000</td>\n",
              "      <td>0.000000</td>\n",
              "      <td>0.000000</td>\n",
              "      <td>5.000000</td>\n",
              "    </tr>\n",
              "    <tr>\n",
              "      <th>50%</th>\n",
              "      <td>10156.000000</td>\n",
              "      <td>0.000000</td>\n",
              "      <td>1.000000</td>\n",
              "      <td>0.000000</td>\n",
              "      <td>1.000000</td>\n",
              "      <td>5.000000</td>\n",
              "      <td>3.000000</td>\n",
              "      <td>0.000000</td>\n",
              "      <td>62810.000000</td>\n",
              "      <td>0.000000</td>\n",
              "      <td>19.000000</td>\n",
              "      <td>2132.000000</td>\n",
              "      <td>15.000000</td>\n",
              "      <td>4.280000</td>\n",
              "      <td>4.000000</td>\n",
              "      <td>0.000000</td>\n",
              "      <td>0.000000</td>\n",
              "      <td>10.000000</td>\n",
              "    </tr>\n",
              "    <tr>\n",
              "      <th>75%</th>\n",
              "      <td>10233.500000</td>\n",
              "      <td>1.000000</td>\n",
              "      <td>1.000000</td>\n",
              "      <td>1.000000</td>\n",
              "      <td>5.000000</td>\n",
              "      <td>5.000000</td>\n",
              "      <td>3.000000</td>\n",
              "      <td>0.000000</td>\n",
              "      <td>72036.000000</td>\n",
              "      <td>1.000000</td>\n",
              "      <td>20.000000</td>\n",
              "      <td>2355.000000</td>\n",
              "      <td>19.000000</td>\n",
              "      <td>4.700000</td>\n",
              "      <td>5.000000</td>\n",
              "      <td>0.000000</td>\n",
              "      <td>0.000000</td>\n",
              "      <td>15.000000</td>\n",
              "    </tr>\n",
              "    <tr>\n",
              "      <th>max</th>\n",
              "      <td>10311.000000</td>\n",
              "      <td>1.000000</td>\n",
              "      <td>4.000000</td>\n",
              "      <td>1.000000</td>\n",
              "      <td>5.000000</td>\n",
              "      <td>6.000000</td>\n",
              "      <td>4.000000</td>\n",
              "      <td>1.000000</td>\n",
              "      <td>250000.000000</td>\n",
              "      <td>1.000000</td>\n",
              "      <td>30.000000</td>\n",
              "      <td>98052.000000</td>\n",
              "      <td>39.000000</td>\n",
              "      <td>5.000000</td>\n",
              "      <td>5.000000</td>\n",
              "      <td>8.000000</td>\n",
              "      <td>6.000000</td>\n",
              "      <td>20.000000</td>\n",
              "    </tr>\n",
              "  </tbody>\n",
              "</table>\n",
              "</div>"
            ],
            "text/plain": [
              "              EmpID   MarriedID  MaritalStatusID    GenderID  EmpStatusID  \\\n",
              "count    311.000000  311.000000       311.000000  311.000000   311.000000   \n",
              "mean   10156.000000    0.398714         0.810289    0.434084     2.392283   \n",
              "std       89.922189    0.490423         0.943239    0.496435     1.794383   \n",
              "min    10001.000000    0.000000         0.000000    0.000000     1.000000   \n",
              "25%    10078.500000    0.000000         0.000000    0.000000     1.000000   \n",
              "50%    10156.000000    0.000000         1.000000    0.000000     1.000000   \n",
              "75%    10233.500000    1.000000         1.000000    1.000000     5.000000   \n",
              "max    10311.000000    1.000000         4.000000    1.000000     5.000000   \n",
              "\n",
              "           DeptID  PerfScoreID  FromDiversityJobFairID         Salary  \\\n",
              "count  311.000000   311.000000              311.000000     311.000000   \n",
              "mean     4.610932     2.977492                0.093248   69020.684887   \n",
              "std      1.083487     0.587072                0.291248   25156.636930   \n",
              "min      1.000000     1.000000                0.000000   45046.000000   \n",
              "25%      5.000000     3.000000                0.000000   55501.500000   \n",
              "50%      5.000000     3.000000                0.000000   62810.000000   \n",
              "75%      5.000000     3.000000                0.000000   72036.000000   \n",
              "max      6.000000     4.000000                1.000000  250000.000000   \n",
              "\n",
              "            Termd  PositionID           Zip   ManagerID  EngagementSurvey  \\\n",
              "count  311.000000  311.000000    311.000000  303.000000        311.000000   \n",
              "mean     0.334405   16.845659   6555.482315   14.570957          4.110000   \n",
              "std      0.472542    6.223419  16908.396884    8.078306          0.789938   \n",
              "min      0.000000    1.000000   1013.000000    1.000000          1.120000   \n",
              "25%      0.000000   18.000000   1901.500000   10.000000          3.690000   \n",
              "50%      0.000000   19.000000   2132.000000   15.000000          4.280000   \n",
              "75%      1.000000   20.000000   2355.000000   19.000000          4.700000   \n",
              "max      1.000000   30.000000  98052.000000   39.000000          5.000000   \n",
              "\n",
              "       EmpSatisfaction  SpecialProjectsCount  DaysLateLast30    Absences  \n",
              "count       311.000000            311.000000      311.000000  311.000000  \n",
              "mean          3.890675              1.218650        0.414791   10.237942  \n",
              "std           0.909241              2.349421        1.294519    5.852596  \n",
              "min           1.000000              0.000000        0.000000    1.000000  \n",
              "25%           3.000000              0.000000        0.000000    5.000000  \n",
              "50%           4.000000              0.000000        0.000000   10.000000  \n",
              "75%           5.000000              0.000000        0.000000   15.000000  \n",
              "max           5.000000              8.000000        6.000000   20.000000  "
            ]
          },
          "execution_count": 6,
          "metadata": {},
          "output_type": "execute_result"
        }
      ],
      "source": [
        "df.describe()"
      ]
    },
    {
      "cell_type": "markdown",
      "id": "d34afea8",
      "metadata": {
        "id": "d34afea8",
        "papermill": {
          "duration": 0.019794,
          "end_time": "2023-09-14T15:24:49.164600",
          "exception": false,
          "start_time": "2023-09-14T15:24:49.144806",
          "status": "completed"
        },
        "tags": []
      },
      "source": [
        "# CLEAN THE DATA"
      ]
    },
    {
      "cell_type": "code",
      "execution_count": null,
      "id": "1e67bc83",
      "metadata": {
        "colab": {
          "base_uri": "https://localhost:8080/"
        },
        "execution": {
          "iopub.execute_input": "2023-09-14T15:24:49.207413Z",
          "iopub.status.busy": "2023-09-14T15:24:49.207010Z",
          "iopub.status.idle": "2023-09-14T15:24:49.216975Z",
          "shell.execute_reply": "2023-09-14T15:24:49.215850Z"
        },
        "id": "1e67bc83",
        "outputId": "dd4c20d8-43c8-4cd2-d2e8-fd012df9000f",
        "papermill": {
          "duration": 0.034922,
          "end_time": "2023-09-14T15:24:49.219785",
          "exception": false,
          "start_time": "2023-09-14T15:24:49.184863",
          "status": "completed"
        },
        "tags": []
      },
      "outputs": [
        {
          "data": {
            "text/plain": [
              "Employee_Name                   0\n",
              "EmpID                           0\n",
              "MarriedID                       0\n",
              "MaritalStatusID                 0\n",
              "GenderID                        0\n",
              "EmpStatusID                     0\n",
              "DeptID                          0\n",
              "PerfScoreID                     0\n",
              "FromDiversityJobFairID          0\n",
              "Salary                          0\n",
              "Termd                           0\n",
              "PositionID                      0\n",
              "Position                        0\n",
              "State                           0\n",
              "Zip                             0\n",
              "DOB                             0\n",
              "Sex                             0\n",
              "MaritalDesc                     0\n",
              "CitizenDesc                     0\n",
              "HispanicLatino                  0\n",
              "RaceDesc                        0\n",
              "DateofHire                      0\n",
              "DateofTermination             207\n",
              "TermReason                      0\n",
              "EmploymentStatus                0\n",
              "Department                      0\n",
              "ManagerName                     0\n",
              "ManagerID                       8\n",
              "RecruitmentSource               0\n",
              "PerformanceScore                0\n",
              "EngagementSurvey                0\n",
              "EmpSatisfaction                 0\n",
              "SpecialProjectsCount            0\n",
              "LastPerformanceReview_Date      0\n",
              "DaysLateLast30                  0\n",
              "Absences                        0\n",
              "dtype: int64"
            ]
          },
          "execution_count": 7,
          "metadata": {},
          "output_type": "execute_result"
        }
      ],
      "source": [
        "df.isnull().sum()"
      ]
    },
    {
      "cell_type": "code",
      "execution_count": null,
      "id": "78fb5af5",
      "metadata": {
        "execution": {
          "iopub.execute_input": "2023-09-14T15:24:49.263046Z",
          "iopub.status.busy": "2023-09-14T15:24:49.262303Z",
          "iopub.status.idle": "2023-09-14T15:24:49.269714Z",
          "shell.execute_reply": "2023-09-14T15:24:49.268930Z"
        },
        "id": "78fb5af5",
        "papermill": {
          "duration": 0.031407,
          "end_time": "2023-09-14T15:24:49.271915",
          "exception": false,
          "start_time": "2023-09-14T15:24:49.240508",
          "status": "completed"
        },
        "tags": [],
        "outputId": "821c39ea-1ad1-492a-e000-3f0c10b8e972"
      },
      "outputs": [
        {
          "name": "stderr",
          "output_type": "stream",
          "text": [
            "C:\\Users\\ajayk\\AppData\\Local\\Temp\\ipykernel_17160\\563285813.py:1: FutureWarning: Setting an item of incompatible dtype is deprecated and will raise an error in a future version of pandas. Value '0' has dtype incompatible with float64, please explicitly cast to a compatible dtype first.\n",
            "  df.fillna(\"0\",inplace=True)\n"
          ]
        }
      ],
      "source": [
        "df.fillna(\"0\",inplace=True)\n"
      ]
    },
    {
      "cell_type": "code",
      "execution_count": null,
      "id": "fab73446",
      "metadata": {
        "colab": {
          "base_uri": "https://localhost:8080/"
        },
        "execution": {
          "iopub.execute_input": "2023-09-14T15:24:49.314719Z",
          "iopub.status.busy": "2023-09-14T15:24:49.314048Z",
          "iopub.status.idle": "2023-09-14T15:24:49.324147Z",
          "shell.execute_reply": "2023-09-14T15:24:49.323383Z"
        },
        "id": "fab73446",
        "outputId": "082eeb39-4a56-4f02-f486-2b7860d97768",
        "papermill": {
          "duration": 0.034195,
          "end_time": "2023-09-14T15:24:49.326271",
          "exception": false,
          "start_time": "2023-09-14T15:24:49.292076",
          "status": "completed"
        },
        "tags": []
      },
      "outputs": [
        {
          "data": {
            "text/plain": [
              "Employee_Name                 0\n",
              "EmpID                         0\n",
              "MarriedID                     0\n",
              "MaritalStatusID               0\n",
              "GenderID                      0\n",
              "EmpStatusID                   0\n",
              "DeptID                        0\n",
              "PerfScoreID                   0\n",
              "FromDiversityJobFairID        0\n",
              "Salary                        0\n",
              "Termd                         0\n",
              "PositionID                    0\n",
              "Position                      0\n",
              "State                         0\n",
              "Zip                           0\n",
              "DOB                           0\n",
              "Sex                           0\n",
              "MaritalDesc                   0\n",
              "CitizenDesc                   0\n",
              "HispanicLatino                0\n",
              "RaceDesc                      0\n",
              "DateofHire                    0\n",
              "DateofTermination             0\n",
              "TermReason                    0\n",
              "EmploymentStatus              0\n",
              "Department                    0\n",
              "ManagerName                   0\n",
              "ManagerID                     0\n",
              "RecruitmentSource             0\n",
              "PerformanceScore              0\n",
              "EngagementSurvey              0\n",
              "EmpSatisfaction               0\n",
              "SpecialProjectsCount          0\n",
              "LastPerformanceReview_Date    0\n",
              "DaysLateLast30                0\n",
              "Absences                      0\n",
              "dtype: int64"
            ]
          },
          "execution_count": 9,
          "metadata": {},
          "output_type": "execute_result"
        }
      ],
      "source": [
        "df.isnull().sum()"
      ]
    },
    {
      "cell_type": "code",
      "execution_count": null,
      "id": "193878c4",
      "metadata": {
        "execution": {
          "iopub.execute_input": "2023-09-14T15:24:49.368829Z",
          "iopub.status.busy": "2023-09-14T15:24:49.368103Z",
          "iopub.status.idle": "2023-09-14T15:24:49.382187Z",
          "shell.execute_reply": "2023-09-14T15:24:49.381370Z"
        },
        "id": "193878c4",
        "papermill": {
          "duration": 0.037742,
          "end_time": "2023-09-14T15:24:49.384692",
          "exception": false,
          "start_time": "2023-09-14T15:24:49.346950",
          "status": "completed"
        },
        "tags": []
      },
      "outputs": [],
      "source": [
        "df.drop_duplicates(inplace=True)"
      ]
    },
    {
      "cell_type": "markdown",
      "id": "01a2bac8",
      "metadata": {
        "id": "01a2bac8",
        "papermill": {
          "duration": 0.02042,
          "end_time": "2023-09-14T15:24:49.426175",
          "exception": false,
          "start_time": "2023-09-14T15:24:49.405755",
          "status": "completed"
        },
        "tags": []
      },
      "source": [
        "# EXPLORATORY ANALYSIS"
      ]
    },
    {
      "cell_type": "markdown",
      "id": "e971256f",
      "metadata": {
        "id": "e971256f",
        "papermill": {
          "duration": 0.020107,
          "end_time": "2023-09-14T15:24:49.466828",
          "exception": false,
          "start_time": "2023-09-14T15:24:49.446721",
          "status": "completed"
        },
        "tags": []
      },
      "source": [
        "# **Employees With Highest Salaries**"
      ]
    },
    {
      "cell_type": "markdown",
      "id": "28333962",
      "metadata": {
        "id": "28333962",
        "papermill": {
          "duration": 0.020377,
          "end_time": "2023-09-14T15:24:49.508939",
          "exception": false,
          "start_time": "2023-09-14T15:24:49.488562",
          "status": "completed"
        },
        "tags": []
      },
      "source": [
        "* **Among the employees who records are with us, we need to find out who are the top 10 highest paid employees among them those 300+ employees**"
      ]
    },
    {
      "cell_type": "code",
      "execution_count": null,
      "id": "cf9d679e",
      "metadata": {
        "colab": {
          "base_uri": "https://localhost:8080/"
        },
        "execution": {
          "iopub.execute_input": "2023-09-14T15:24:49.552402Z",
          "iopub.status.busy": "2023-09-14T15:24:49.551510Z",
          "iopub.status.idle": "2023-09-14T15:24:49.557785Z",
          "shell.execute_reply": "2023-09-14T15:24:49.557046Z"
        },
        "id": "cf9d679e",
        "outputId": "c4a2ee24-5ef7-440d-fc14-1e1f082dd32f",
        "papermill": {
          "duration": 0.030256,
          "end_time": "2023-09-14T15:24:49.559828",
          "exception": false,
          "start_time": "2023-09-14T15:24:49.529572",
          "status": "completed"
        },
        "tags": []
      },
      "outputs": [
        {
          "data": {
            "text/plain": [
              "Index(['Employee_Name', 'EmpID', 'MarriedID', 'MaritalStatusID', 'GenderID',\n",
              "       'EmpStatusID', 'DeptID', 'PerfScoreID', 'FromDiversityJobFairID',\n",
              "       'Salary', 'Termd', 'PositionID', 'Position', 'State', 'Zip', 'DOB',\n",
              "       'Sex', 'MaritalDesc', 'CitizenDesc', 'HispanicLatino', 'RaceDesc',\n",
              "       'DateofHire', 'DateofTermination', 'TermReason', 'EmploymentStatus',\n",
              "       'Department', 'ManagerName', 'ManagerID', 'RecruitmentSource',\n",
              "       'PerformanceScore', 'EngagementSurvey', 'EmpSatisfaction',\n",
              "       'SpecialProjectsCount', 'LastPerformanceReview_Date', 'DaysLateLast30',\n",
              "       'Absences'],\n",
              "      dtype='object')"
            ]
          },
          "execution_count": 11,
          "metadata": {},
          "output_type": "execute_result"
        }
      ],
      "source": [
        "df.columns"
      ]
    },
    {
      "cell_type": "code",
      "execution_count": null,
      "id": "a4a7b85e",
      "metadata": {
        "colab": {
          "base_uri": "https://localhost:8080/"
        },
        "execution": {
          "iopub.execute_input": "2023-09-14T15:24:49.603586Z",
          "iopub.status.busy": "2023-09-14T15:24:49.602919Z",
          "iopub.status.idle": "2023-09-14T15:24:49.611155Z",
          "shell.execute_reply": "2023-09-14T15:24:49.610203Z"
        },
        "id": "a4a7b85e",
        "outputId": "bb74e7ac-52a9-4756-e598-ceeef4b04e33",
        "papermill": {
          "duration": 0.032973,
          "end_time": "2023-09-14T15:24:49.613612",
          "exception": false,
          "start_time": "2023-09-14T15:24:49.580639",
          "status": "completed"
        },
        "tags": []
      },
      "outputs": [
        {
          "data": {
            "text/plain": [
              "150    250000\n",
              "308    220450\n",
              "131    180000\n",
              "96     178000\n",
              "55     170500\n",
              "190    157000\n",
              "240    150290\n",
              "244    148999\n",
              "243    140920\n",
              "76     138888\n",
              "Name: Salary, dtype: int64"
            ]
          },
          "execution_count": 12,
          "metadata": {},
          "output_type": "execute_result"
        }
      ],
      "source": [
        "df.Salary.sort_values(ascending=False).head(10)"
      ]
    },
    {
      "cell_type": "markdown",
      "id": "3b2046d3",
      "metadata": {
        "id": "3b2046d3",
        "papermill": {
          "duration": 0.02077,
          "end_time": "2023-09-14T15:24:49.655605",
          "exception": false,
          "start_time": "2023-09-14T15:24:49.634835",
          "status": "completed"
        },
        "tags": []
      },
      "source": [
        "# **Employees Who Needs Special Attention**"
      ]
    },
    {
      "cell_type": "markdown",
      "id": "c9852554",
      "metadata": {
        "id": "c9852554",
        "papermill": {
          "duration": 0.020481,
          "end_time": "2023-09-14T15:24:49.697003",
          "exception": false,
          "start_time": "2023-09-14T15:24:49.676522",
          "status": "completed"
        },
        "tags": []
      },
      "source": [
        "* **Even after working with in a same office, in similar roles, under a common HR, the performance of the employees still differs**\n",
        "\n",
        "* **In most cases, the performance level of the employees either exceeds or fully meets the job requirements as per the company's expectations**\n",
        "\n",
        "* **But for the employees who are struggling to give their best performance, need a Performance Improvement Plan (PIP)**\n",
        "\n",
        "* **Now, our tasks is to list out the employees who requires PIP(Performance Improvement Plan)**"
      ]
    },
    {
      "cell_type": "code",
      "execution_count": null,
      "id": "829d4da6",
      "metadata": {
        "colab": {
          "base_uri": "https://localhost:8080/"
        },
        "execution": {
          "iopub.execute_input": "2023-09-14T15:24:49.740867Z",
          "iopub.status.busy": "2023-09-14T15:24:49.740438Z",
          "iopub.status.idle": "2023-09-14T15:24:49.749355Z",
          "shell.execute_reply": "2023-09-14T15:24:49.748249Z"
        },
        "id": "829d4da6",
        "outputId": "17c2072a-5227-47d0-81d7-e1f368ce95c7",
        "papermill": {
          "duration": 0.033976,
          "end_time": "2023-09-14T15:24:49.752030",
          "exception": false,
          "start_time": "2023-09-14T15:24:49.718054",
          "status": "completed"
        },
        "tags": []
      },
      "outputs": [
        {
          "data": {
            "text/plain": [
              "67     PIP\n",
              "69     PIP\n",
              "72     PIP\n",
              "83     PIP\n",
              "90     PIP\n",
              "91     PIP\n",
              "95     PIP\n",
              "112    PIP\n",
              "188    PIP\n",
              "205    PIP\n",
              "263    PIP\n",
              "267    PIP\n",
              "307    PIP\n",
              "Name: PerformanceScore, dtype: object"
            ]
          },
          "execution_count": 13,
          "metadata": {},
          "output_type": "execute_result"
        }
      ],
      "source": [
        "df1=df[df['PerformanceScore']=='PIP']\n",
        "df1['PerformanceScore']"
      ]
    },
    {
      "cell_type": "code",
      "execution_count": null,
      "id": "815df78b",
      "metadata": {
        "colab": {
          "base_uri": "https://localhost:8080/"
        },
        "execution": {
          "iopub.execute_input": "2023-09-14T15:24:49.796149Z",
          "iopub.status.busy": "2023-09-14T15:24:49.795751Z",
          "iopub.status.idle": "2023-09-14T15:24:49.802233Z",
          "shell.execute_reply": "2023-09-14T15:24:49.801321Z"
        },
        "id": "815df78b",
        "outputId": "7bb8b5bb-8167-4d50-ba2e-587d8a0ed543",
        "papermill": {
          "duration": 0.031238,
          "end_time": "2023-09-14T15:24:49.804515",
          "exception": false,
          "start_time": "2023-09-14T15:24:49.773277",
          "status": "completed"
        },
        "tags": []
      },
      "outputs": [
        {
          "data": {
            "text/plain": [
              "13"
            ]
          },
          "execution_count": 14,
          "metadata": {},
          "output_type": "execute_result"
        }
      ],
      "source": [
        "df1['PerformanceScore'].count()"
      ]
    },
    {
      "cell_type": "markdown",
      "id": "c0a62dc8",
      "metadata": {
        "id": "c0a62dc8",
        "papermill": {
          "duration": 0.020971,
          "end_time": "2023-09-14T15:24:49.846576",
          "exception": false,
          "start_time": "2023-09-14T15:24:49.825605",
          "status": "completed"
        },
        "tags": []
      },
      "source": [
        "**As we can see,13 employees are struggling to give their best performance, need a Performance Improvement Plan (PIP)**"
      ]
    },
    {
      "cell_type": "markdown",
      "id": "0dc11364",
      "metadata": {
        "id": "0dc11364",
        "papermill": {
          "duration": 0.021118,
          "end_time": "2023-09-14T15:24:49.959424",
          "exception": false,
          "start_time": "2023-09-14T15:24:49.938306",
          "status": "completed"
        },
        "tags": []
      },
      "source": [
        "# **No. of Absences**\n",
        "\n",
        "\n",
        "* **Now, we are looking forward to jump in the trend of absences of the employees**\n",
        "\n",
        "* **Thus, we'll count the number of the employees who were absent for the specific no. of days**"
      ]
    },
    {
      "cell_type": "code",
      "execution_count": null,
      "id": "77fda3d5",
      "metadata": {
        "colab": {
          "base_uri": "https://localhost:8080/"
        },
        "execution": {
          "iopub.execute_input": "2023-09-14T15:24:50.004527Z",
          "iopub.status.busy": "2023-09-14T15:24:50.003313Z",
          "iopub.status.idle": "2023-09-14T15:24:50.011755Z",
          "shell.execute_reply": "2023-09-14T15:24:50.011009Z"
        },
        "id": "77fda3d5",
        "outputId": "c36d8e8f-b5d0-44d0-aac4-3bdd519ec24d",
        "papermill": {
          "duration": 0.033334,
          "end_time": "2023-09-14T15:24:50.013902",
          "exception": false,
          "start_time": "2023-09-14T15:24:49.980568",
          "status": "completed"
        },
        "tags": []
      },
      "outputs": [
        {
          "data": {
            "text/plain": [
              "Absences\n",
              "4     23\n",
              "16    23\n",
              "7     21\n",
              "2     21\n",
              "15    20\n",
              "13    17\n",
              "14    17\n",
              "3     16\n",
              "19    16\n",
              "6     16\n",
              "11    15\n",
              "17    15\n",
              "1     14\n",
              "20    14\n",
              "9     14\n",
              "5     12\n",
              "8     11\n",
              "10    10\n",
              "12     8\n",
              "18     8\n",
              "Name: count, dtype: int64"
            ]
          },
          "execution_count": 15,
          "metadata": {},
          "output_type": "execute_result"
        }
      ],
      "source": [
        "df['Absences'].value_counts()"
      ]
    },
    {
      "cell_type": "markdown",
      "id": "90977728",
      "metadata": {
        "id": "90977728",
        "papermill": {
          "duration": 0.021823,
          "end_time": "2023-09-14T15:24:50.057058",
          "exception": false,
          "start_time": "2023-09-14T15:24:50.035235",
          "status": "completed"
        },
        "tags": []
      },
      "source": [
        "# **Whether the Employees are Married or Not?**\n",
        "\n",
        "\n",
        "* **In the dataset, there is a column named 'MarriedID', which comprises of the Boolean values i.e., 0 and 1**\n",
        "\n",
        "* **Here 0 indicates that a paricular employee is unmarries, while 1 indicates its just inverse**\n",
        "\n",
        "* **So, let us look how many employees working are married, and how many are still single**"
      ]
    },
    {
      "cell_type": "code",
      "execution_count": null,
      "id": "f6d1a45e",
      "metadata": {
        "colab": {
          "base_uri": "https://localhost:8080/"
        },
        "execution": {
          "iopub.execute_input": "2023-09-14T15:24:50.102813Z",
          "iopub.status.busy": "2023-09-14T15:24:50.102390Z",
          "iopub.status.idle": "2023-09-14T15:24:50.110748Z",
          "shell.execute_reply": "2023-09-14T15:24:50.109646Z"
        },
        "id": "f6d1a45e",
        "outputId": "c5a068e5-c8be-4506-b317-07e14bdd11dd",
        "papermill": {
          "duration": 0.03438,
          "end_time": "2023-09-14T15:24:50.113076",
          "exception": false,
          "start_time": "2023-09-14T15:24:50.078696",
          "status": "completed"
        },
        "tags": []
      },
      "outputs": [
        {
          "data": {
            "text/plain": [
              "MarriedID\n",
              "0    187\n",
              "1    124\n",
              "Name: count, dtype: int64"
            ]
          },
          "execution_count": 16,
          "metadata": {},
          "output_type": "execute_result"
        }
      ],
      "source": [
        "df['MarriedID'].value_counts()"
      ]
    },
    {
      "cell_type": "markdown",
      "id": "f40c50d5",
      "metadata": {
        "id": "f40c50d5",
        "papermill": {
          "duration": 0.021246,
          "end_time": "2023-09-14T15:24:50.156525",
          "exception": false,
          "start_time": "2023-09-14T15:24:50.135279",
          "status": "completed"
        },
        "tags": []
      },
      "source": [
        "**As we can see,187 employees are unmarried, while 124 are married**"
      ]
    },
    {
      "cell_type": "markdown",
      "id": "5268971c",
      "metadata": {
        "id": "5268971c",
        "papermill": {
          "duration": 0.021755,
          "end_time": "2023-09-14T15:24:50.200382",
          "exception": false,
          "start_time": "2023-09-14T15:24:50.178627",
          "status": "completed"
        },
        "tags": []
      },
      "source": [
        "# **Employees with Special Projects**\n",
        "\n",
        "\n",
        "* **Our task is now to find out the list of employees who have the experience of atleast 1 special project**\n",
        "\n",
        "* **This will help us to promote the employees with most special projects in the higher positions or to reward them for their performance**"
      ]
    },
    {
      "cell_type": "code",
      "execution_count": null,
      "id": "03faec7b",
      "metadata": {
        "colab": {
          "base_uri": "https://localhost:8080/"
        },
        "execution": {
          "iopub.execute_input": "2023-09-14T15:24:50.246194Z",
          "iopub.status.busy": "2023-09-14T15:24:50.245776Z",
          "iopub.status.idle": "2023-09-14T15:24:50.256443Z",
          "shell.execute_reply": "2023-09-14T15:24:50.255210Z"
        },
        "id": "03faec7b",
        "outputId": "908603bf-2675-45e9-dab9-1815f864ecb7",
        "papermill": {
          "duration": 0.036518,
          "end_time": "2023-09-14T15:24:50.258999",
          "exception": false,
          "start_time": "2023-09-14T15:24:50.222481",
          "status": "completed"
        },
        "tags": []
      },
      "outputs": [
        {
          "data": {
            "text/plain": [
              "299    8\n",
              "61     8\n",
              "162    7\n",
              "42     7\n",
              "220    7\n",
              "      ..\n",
              "64     3\n",
              "212    3\n",
              "26     3\n",
              "97     2\n",
              "263    1\n",
              "Name: SpecialProjectsCount, Length: 70, dtype: int64"
            ]
          },
          "execution_count": 17,
          "metadata": {},
          "output_type": "execute_result"
        }
      ],
      "source": [
        "a=df[df['SpecialProjectsCount']!=0]\n",
        "a['SpecialProjectsCount'].sort_values(ascending=False)\n"
      ]
    },
    {
      "cell_type": "code",
      "execution_count": null,
      "id": "587ebdcd",
      "metadata": {
        "colab": {
          "base_uri": "https://localhost:8080/"
        },
        "execution": {
          "iopub.execute_input": "2023-09-14T15:24:50.305066Z",
          "iopub.status.busy": "2023-09-14T15:24:50.304624Z",
          "iopub.status.idle": "2023-09-14T15:24:50.312442Z",
          "shell.execute_reply": "2023-09-14T15:24:50.311623Z"
        },
        "id": "587ebdcd",
        "outputId": "67f5b4c5-94a4-48e0-a8fc-4b099c9c6acc",
        "papermill": {
          "duration": 0.033782,
          "end_time": "2023-09-14T15:24:50.314562",
          "exception": false,
          "start_time": "2023-09-14T15:24:50.280780",
          "status": "completed"
        },
        "tags": []
      },
      "outputs": [
        {
          "data": {
            "text/plain": [
              "70"
            ]
          },
          "execution_count": 18,
          "metadata": {},
          "output_type": "execute_result"
        }
      ],
      "source": [
        "a['SpecialProjectsCount'].sort_values(ascending=False).count()"
      ]
    },
    {
      "cell_type": "code",
      "execution_count": null,
      "id": "62b2c18a",
      "metadata": {
        "colab": {
          "base_uri": "https://localhost:8080/"
        },
        "execution": {
          "iopub.execute_input": "2023-09-14T15:24:50.433407Z",
          "iopub.status.busy": "2023-09-14T15:24:50.433012Z",
          "iopub.status.idle": "2023-09-14T15:24:50.441732Z",
          "shell.execute_reply": "2023-09-14T15:24:50.440575Z"
        },
        "id": "62b2c18a",
        "outputId": "019d947b-e739-4c1e-e811-dbdbb3cccb88",
        "papermill": {
          "duration": 0.035154,
          "end_time": "2023-09-14T15:24:50.444231",
          "exception": false,
          "start_time": "2023-09-14T15:24:50.409077",
          "status": "completed"
        },
        "tags": []
      },
      "outputs": [
        {
          "data": {
            "text/plain": [
              "241"
            ]
          },
          "execution_count": 19,
          "metadata": {},
          "output_type": "execute_result"
        }
      ],
      "source": [
        "a=df[df['SpecialProjectsCount']==0]\n",
        "a['SpecialProjectsCount'].count()"
      ]
    },
    {
      "cell_type": "markdown",
      "id": "2fa2245d",
      "metadata": {
        "id": "2fa2245d",
        "papermill": {
          "duration": 0.022324,
          "end_time": "2023-09-14T15:24:50.488630",
          "exception": false,
          "start_time": "2023-09-14T15:24:50.466306",
          "status": "completed"
        },
        "tags": []
      },
      "source": [
        "**As we can see,Out of 311 Employees 70 Employees have the experience of atleast 1 special project and remaining 241 Employees have not done any special project**"
      ]
    },
    {
      "cell_type": "markdown",
      "id": "9e38f735",
      "metadata": {
        "id": "9e38f735",
        "papermill": {
          "duration": 0.021988,
          "end_time": "2023-09-14T15:24:50.533537",
          "exception": false,
          "start_time": "2023-09-14T15:24:50.511549",
          "status": "completed"
        },
        "tags": []
      },
      "source": [
        "# **Data Visualization**\n",
        "\n",
        "\n",
        "* **Till now, we have performed various queries to find out the required insights**\n",
        "\n",
        "* **Now, we'll jump into the visualization part**\n",
        "\n",
        "* **Visualizations will assist us to understand the data easily and also to find insights out of them**\n",
        "\n",
        "* **For visualization, we'll use matplotlib library, which we have already imported in the beginning**\n",
        "\n"
      ]
    },
    {
      "cell_type": "markdown",
      "id": "af31f713",
      "metadata": {
        "id": "af31f713",
        "papermill": {
          "duration": 0.022051,
          "end_time": "2023-09-14T15:24:50.649596",
          "exception": false,
          "start_time": "2023-09-14T15:24:50.627545",
          "status": "completed"
        },
        "tags": []
      },
      "source": [
        "# Highest vs Lowest Salaries\n",
        "\n",
        "* **Previously, during the analysis part, we have gone through the name and salaries of the highest paid employees**\n",
        "\n",
        "* **Now, we wish to compare the top 10 highest vs the lowest salaries employees get**"
      ]
    },
    {
      "cell_type": "code",
      "execution_count": null,
      "id": "0d9d566f",
      "metadata": {
        "colab": {
          "base_uri": "https://localhost:8080/",
          "height": 454
        },
        "execution": {
          "iopub.execute_input": "2023-09-14T15:24:50.695831Z",
          "iopub.status.busy": "2023-09-14T15:24:50.695403Z",
          "iopub.status.idle": "2023-09-14T15:24:51.081910Z",
          "shell.execute_reply": "2023-09-14T15:24:51.080566Z"
        },
        "id": "0d9d566f",
        "outputId": "de42047b-5b4c-4e3b-90fc-7c7992b02f39",
        "papermill": {
          "duration": 0.412783,
          "end_time": "2023-09-14T15:24:51.084624",
          "exception": false,
          "start_time": "2023-09-14T15:24:50.671841",
          "status": "completed"
        },
        "tags": []
      },
      "outputs": [
        {
          "data": {
            "image/png": "[encoded data removed]",
            "text/plain": [
              "<Figure size 640x480 with 1 Axes>"
            ]
          },
          "metadata": {},
          "output_type": "display_data"
        }
      ],
      "source": [
        "c=[1,2,3,4,5,6,7,8,9,10]\n",
        "x= df['Salary'].sort_values(ascending=False).head(10)\n",
        "y= df['Salary'].sort_values(ascending=False).tail(10)\n",
        "\n",
        "plt.bar(c,x,color='g',label=\"Highest salaries\")\n",
        "plt.bar(c,y,color='r',label=\"Lowest salaries\")\n",
        "\n",
        "plt.title(\"Top 10 Highest VS lowest salaries\",fontsize=15)\n",
        "\n",
        "plt.xticks(c)\n",
        "plt.ylabel('salaries')\n",
        "plt.legend()\n",
        "plt.show()\n"
      ]
    },
    {
      "cell_type": "markdown",
      "id": "b18e54c4",
      "metadata": {
        "id": "b18e54c4",
        "papermill": {
          "duration": 0.022538,
          "end_time": "2023-09-14T15:24:51.130277",
          "exception": false,
          "start_time": "2023-09-14T15:24:51.107739",
          "status": "completed"
        },
        "tags": []
      },
      "source": [
        "# Sources of Recruitment\n",
        "\n",
        "* **In most of the cases, the companies doesn't relay on hiring only through a single source**\n",
        "\n",
        "* **They mostly hire candidates through various sources or platforms**\n",
        "\n",
        "* **Here, our task is to display the platforms along with the no. of candidates they hired from that source**"
      ]
    },
    {
      "cell_type": "code",
      "execution_count": null,
      "id": "581412c5",
      "metadata": {
        "colab": {
          "base_uri": "https://localhost:8080/"
        },
        "execution": {
          "iopub.execute_input": "2023-09-14T15:24:51.177624Z",
          "iopub.status.busy": "2023-09-14T15:24:51.176496Z",
          "iopub.status.idle": "2023-09-14T15:24:51.184636Z",
          "shell.execute_reply": "2023-09-14T15:24:51.183919Z"
        },
        "id": "581412c5",
        "outputId": "931ce1e4-8f45-4b57-97a3-de7e59639af6",
        "papermill": {
          "duration": 0.034085,
          "end_time": "2023-09-14T15:24:51.187078",
          "exception": false,
          "start_time": "2023-09-14T15:24:51.152993",
          "status": "completed"
        },
        "tags": []
      },
      "outputs": [
        {
          "data": {
            "text/plain": [
              "RecruitmentSource\n",
              "Indeed                     87\n",
              "LinkedIn                   76\n",
              "Google Search              49\n",
              "Employee Referral          31\n",
              "Diversity Job Fair         29\n",
              "CareerBuilder              23\n",
              "Website                    13\n",
              "Other                       2\n",
              "On-line Web application     1\n",
              "Name: count, dtype: int64"
            ]
          },
          "execution_count": 21,
          "metadata": {},
          "output_type": "execute_result"
        }
      ],
      "source": [
        "l=df['RecruitmentSource'].value_counts()\n",
        "l"
      ]
    },
    {
      "cell_type": "code",
      "execution_count": null,
      "id": "c25f4ca9",
      "metadata": {
        "colab": {
          "base_uri": "https://localhost:8080/",
          "height": 511
        },
        "execution": {
          "iopub.execute_input": "2023-09-14T15:24:51.235568Z",
          "iopub.status.busy": "2023-09-14T15:24:51.234460Z",
          "iopub.status.idle": "2023-09-14T15:24:51.561877Z",
          "shell.execute_reply": "2023-09-14T15:24:51.560721Z"
        },
        "id": "c25f4ca9",
        "outputId": "1e261a2b-4030-48fe-bd53-811592d73ea1",
        "papermill": {
          "duration": 0.356566,
          "end_time": "2023-09-14T15:24:51.566246",
          "exception": false,
          "start_time": "2023-09-14T15:24:51.209680",
          "status": "completed"
        },
        "tags": []
      },
      "outputs": [
        {
          "name": "stderr",
          "output_type": "stream",
          "text": [
            "No artists with labels found to put in legend.  Note that artists whose label start with an underscore are ignored when legend() is called with no argument.\n"
          ]
        },
        {
          "data": {
            "image/png": "[encoded data removed]",
            "text/plain": [
              "<Figure size 640x480 with 1 Axes>"
            ]
          },
          "metadata": {},
          "output_type": "display_data"
        }
      ],
      "source": [
        "#using barh graph\n",
        "\n",
        "plt.barh(l.index,l,color='m')\n",
        "plt.title(\"Sources of Recruitment\",fontsize=15)\n",
        "\n",
        "plt.xlabel('Number of candidates hired')\n",
        "plt.ylabel('RecruitmentSource')\n",
        "\n",
        "plt.grid()\n",
        "plt.legend()\n",
        "plt.show()"
      ]
    },
    {
      "cell_type": "markdown",
      "id": "rU0XM8RxMeqC",
      "metadata": {
        "id": "rU0XM8RxMeqC"
      },
      "source": [
        "As we can see that candidates are hired more on indeed complare to other web applications. so they have to apply more on indeed compare to other portel. linkedin also can be considered. chances are there to get hired soon"
      ]
    },
    {
      "cell_type": "markdown",
      "id": "d7x83YLN83QW",
      "metadata": {
        "id": "d7x83YLN83QW"
      },
      "source": [
        "###QA\n",
        "1.**Question: What is the most common source of recruitment for the company?**\n",
        "\n",
        "**Answer:** Indeed is the most common source of recruitment for the company, with 80 candidates hired through this platform.\n",
        "\n",
        "2.**Question: Are there any sources of recruitment that stand out in terms of the number of candidates hired?**\n",
        "\n",
        "**Answer:** Indeed stands out as the most common source of recruitment, with nearly twice as many candidates hired through this platform compared to the other sources. LinkedIn also stands out, with 60 candidates hired, significantly more than the 20 hired through Employee referrals and CareerBuilder."
      ]
    },
    {
      "cell_type": "markdown",
      "id": "9bbfa18b",
      "metadata": {
        "id": "9bbfa18b",
        "papermill": {
          "duration": 0.025577,
          "end_time": "2023-09-14T15:24:51.989518",
          "exception": false,
          "start_time": "2023-09-14T15:24:51.963941",
          "status": "completed"
        },
        "tags": []
      },
      "source": [
        "**As we can clearly see, Indeed and LinkedIn are the top platforms from where the company hired most of the candidates**"
      ]
    },
    {
      "cell_type": "code",
      "execution_count": null,
      "id": "r-ZOnaCAOMMb",
      "metadata": {
        "colab": {
          "base_uri": "https://localhost:8080/",
          "height": 325
        },
        "id": "r-ZOnaCAOMMb",
        "outputId": "2a3b49df-1bc6-4f10-d3b2-58f3aaeae12d"
      },
      "outputs": [
        {
          "data": {
            "text/html": [
              "<div>\n",
              "<style scoped>\n",
              "    .dataframe tbody tr th:only-of-type {\n",
              "        vertical-align: middle;\n",
              "    }\n",
              "\n",
              "    .dataframe tbody tr th {\n",
              "        vertical-align: top;\n",
              "    }\n",
              "\n",
              "    .dataframe thead th {\n",
              "        text-align: right;\n",
              "    }\n",
              "</style>\n",
              "<table border=\"1\" class=\"dataframe\">\n",
              "  <thead>\n",
              "    <tr style=\"text-align: right;\">\n",
              "      <th></th>\n",
              "      <th>Employee_Name</th>\n",
              "      <th>EmpID</th>\n",
              "      <th>MarriedID</th>\n",
              "      <th>MaritalStatusID</th>\n",
              "      <th>GenderID</th>\n",
              "      <th>EmpStatusID</th>\n",
              "      <th>DeptID</th>\n",
              "      <th>PerfScoreID</th>\n",
              "      <th>FromDiversityJobFairID</th>\n",
              "      <th>Salary</th>\n",
              "      <th>...</th>\n",
              "      <th>ManagerName</th>\n",
              "      <th>ManagerID</th>\n",
              "      <th>RecruitmentSource</th>\n",
              "      <th>PerformanceScore</th>\n",
              "      <th>EngagementSurvey</th>\n",
              "      <th>EmpSatisfaction</th>\n",
              "      <th>SpecialProjectsCount</th>\n",
              "      <th>LastPerformanceReview_Date</th>\n",
              "      <th>DaysLateLast30</th>\n",
              "      <th>Absences</th>\n",
              "    </tr>\n",
              "  </thead>\n",
              "  <tbody>\n",
              "    <tr>\n",
              "      <th>0</th>\n",
              "      <td>Adinolfi, Wilson  K</td>\n",
              "      <td>10026</td>\n",
              "      <td>0</td>\n",
              "      <td>0</td>\n",
              "      <td>1</td>\n",
              "      <td>1</td>\n",
              "      <td>5</td>\n",
              "      <td>4</td>\n",
              "      <td>0</td>\n",
              "      <td>62506</td>\n",
              "      <td>...</td>\n",
              "      <td>Michael Albert</td>\n",
              "      <td>22.0</td>\n",
              "      <td>LinkedIn</td>\n",
              "      <td>Exceeds</td>\n",
              "      <td>4.60</td>\n",
              "      <td>5</td>\n",
              "      <td>0</td>\n",
              "      <td>1/17/2019</td>\n",
              "      <td>0</td>\n",
              "      <td>1</td>\n",
              "    </tr>\n",
              "    <tr>\n",
              "      <th>1</th>\n",
              "      <td>Ait Sidi, Karthikeyan</td>\n",
              "      <td>10084</td>\n",
              "      <td>1</td>\n",
              "      <td>1</td>\n",
              "      <td>1</td>\n",
              "      <td>5</td>\n",
              "      <td>3</td>\n",
              "      <td>3</td>\n",
              "      <td>0</td>\n",
              "      <td>104437</td>\n",
              "      <td>...</td>\n",
              "      <td>Simon Roup</td>\n",
              "      <td>4.0</td>\n",
              "      <td>Indeed</td>\n",
              "      <td>Fully Meets</td>\n",
              "      <td>4.96</td>\n",
              "      <td>3</td>\n",
              "      <td>6</td>\n",
              "      <td>2/24/2016</td>\n",
              "      <td>0</td>\n",
              "      <td>17</td>\n",
              "    </tr>\n",
              "    <tr>\n",
              "      <th>2</th>\n",
              "      <td>Akinkuolie, Sarah</td>\n",
              "      <td>10196</td>\n",
              "      <td>1</td>\n",
              "      <td>1</td>\n",
              "      <td>0</td>\n",
              "      <td>5</td>\n",
              "      <td>5</td>\n",
              "      <td>3</td>\n",
              "      <td>0</td>\n",
              "      <td>64955</td>\n",
              "      <td>...</td>\n",
              "      <td>Kissy Sullivan</td>\n",
              "      <td>20.0</td>\n",
              "      <td>LinkedIn</td>\n",
              "      <td>Fully Meets</td>\n",
              "      <td>3.02</td>\n",
              "      <td>3</td>\n",
              "      <td>0</td>\n",
              "      <td>5/15/2012</td>\n",
              "      <td>0</td>\n",
              "      <td>3</td>\n",
              "    </tr>\n",
              "    <tr>\n",
              "      <th>3</th>\n",
              "      <td>Alagbe,Trina</td>\n",
              "      <td>10088</td>\n",
              "      <td>1</td>\n",
              "      <td>1</td>\n",
              "      <td>0</td>\n",
              "      <td>1</td>\n",
              "      <td>5</td>\n",
              "      <td>3</td>\n",
              "      <td>0</td>\n",
              "      <td>64991</td>\n",
              "      <td>...</td>\n",
              "      <td>Elijiah Gray</td>\n",
              "      <td>16.0</td>\n",
              "      <td>Indeed</td>\n",
              "      <td>Fully Meets</td>\n",
              "      <td>4.84</td>\n",
              "      <td>5</td>\n",
              "      <td>0</td>\n",
              "      <td>1/3/2019</td>\n",
              "      <td>0</td>\n",
              "      <td>15</td>\n",
              "    </tr>\n",
              "    <tr>\n",
              "      <th>4</th>\n",
              "      <td>Anderson, Carol</td>\n",
              "      <td>10069</td>\n",
              "      <td>0</td>\n",
              "      <td>2</td>\n",
              "      <td>0</td>\n",
              "      <td>5</td>\n",
              "      <td>5</td>\n",
              "      <td>3</td>\n",
              "      <td>0</td>\n",
              "      <td>50825</td>\n",
              "      <td>...</td>\n",
              "      <td>Webster Butler</td>\n",
              "      <td>39.0</td>\n",
              "      <td>Google Search</td>\n",
              "      <td>Fully Meets</td>\n",
              "      <td>5.00</td>\n",
              "      <td>4</td>\n",
              "      <td>0</td>\n",
              "      <td>2/1/2016</td>\n",
              "      <td>0</td>\n",
              "      <td>2</td>\n",
              "    </tr>\n",
              "  </tbody>\n",
              "</table>\n",
              "<p>5 rows × 36 columns</p>\n",
              "</div>"
            ],
            "text/plain": [
              "              Employee_Name  EmpID  MarriedID  MaritalStatusID  GenderID  \\\n",
              "0       Adinolfi, Wilson  K  10026          0                0         1   \n",
              "1  Ait Sidi, Karthikeyan     10084          1                1         1   \n",
              "2         Akinkuolie, Sarah  10196          1                1         0   \n",
              "3              Alagbe,Trina  10088          1                1         0   \n",
              "4          Anderson, Carol   10069          0                2         0   \n",
              "\n",
              "   EmpStatusID  DeptID  PerfScoreID  FromDiversityJobFairID  Salary  ...  \\\n",
              "0            1       5            4                       0   62506  ...   \n",
              "1            5       3            3                       0  104437  ...   \n",
              "2            5       5            3                       0   64955  ...   \n",
              "3            1       5            3                       0   64991  ...   \n",
              "4            5       5            3                       0   50825  ...   \n",
              "\n",
              "      ManagerName  ManagerID RecruitmentSource PerformanceScore  \\\n",
              "0  Michael Albert       22.0          LinkedIn          Exceeds   \n",
              "1      Simon Roup        4.0            Indeed      Fully Meets   \n",
              "2  Kissy Sullivan       20.0          LinkedIn      Fully Meets   \n",
              "3    Elijiah Gray       16.0            Indeed      Fully Meets   \n",
              "4  Webster Butler       39.0     Google Search      Fully Meets   \n",
              "\n",
              "   EngagementSurvey EmpSatisfaction SpecialProjectsCount  \\\n",
              "0              4.60               5                    0   \n",
              "1              4.96               3                    6   \n",
              "2              3.02               3                    0   \n",
              "3              4.84               5                    0   \n",
              "4              5.00               4                    0   \n",
              "\n",
              "  LastPerformanceReview_Date DaysLateLast30 Absences  \n",
              "0                  1/17/2019              0        1  \n",
              "1                  2/24/2016              0       17  \n",
              "2                  5/15/2012              0        3  \n",
              "3                   1/3/2019              0       15  \n",
              "4                   2/1/2016              0        2  \n",
              "\n",
              "[5 rows x 36 columns]"
            ]
          },
          "execution_count": 23,
          "metadata": {},
          "output_type": "execute_result"
        }
      ],
      "source": [
        "df.head()"
      ]
    },
    {
      "cell_type": "markdown",
      "id": "5c4b7040",
      "metadata": {
        "id": "5c4b7040",
        "papermill": {
          "duration": 0.023918,
          "end_time": "2023-09-14T15:24:52.038448",
          "exception": false,
          "start_time": "2023-09-14T15:24:52.014530",
          "status": "completed"
        },
        "tags": []
      },
      "source": [
        "# **Performance of Employees**\n",
        "\n",
        "* **The performance of every employee differs from each other**\n",
        "\n",
        "* **Some employees performs very well, some does satisfactory work, while the work of some employees fails to match the company's standards or requirements**\n",
        "\n",
        "* **We have to find out the trends of performance of the employees so that we can take better decisions for the company's workforce and their performance**"
      ]
    },
    {
      "cell_type": "code",
      "execution_count": null,
      "id": "464693ae",
      "metadata": {
        "colab": {
          "base_uri": "https://localhost:8080/"
        },
        "execution": {
          "iopub.execute_input": "2023-09-14T15:24:52.089372Z",
          "iopub.status.busy": "2023-09-14T15:24:52.088298Z",
          "iopub.status.idle": "2023-09-14T15:24:52.097485Z",
          "shell.execute_reply": "2023-09-14T15:24:52.096397Z"
        },
        "id": "464693ae",
        "outputId": "f2e67f3e-65b2-48b5-ff2a-cf25978fd638",
        "papermill": {
          "duration": 0.03705,
          "end_time": "2023-09-14T15:24:52.099749",
          "exception": false,
          "start_time": "2023-09-14T15:24:52.062699",
          "status": "completed"
        },
        "tags": []
      },
      "outputs": [
        {
          "data": {
            "text/plain": [
              "PerformanceScore\n",
              "Fully Meets          243\n",
              "Exceeds               37\n",
              "Needs Improvement     18\n",
              "PIP                   13\n",
              "Name: count, dtype: int64"
            ]
          },
          "execution_count": 24,
          "metadata": {},
          "output_type": "execute_result"
        }
      ],
      "source": [
        "z=df['PerformanceScore'].value_counts()\n",
        "z"
      ]
    },
    {
      "cell_type": "code",
      "execution_count": null,
      "id": "VcMuHUNAO5L7",
      "metadata": {
        "colab": {
          "base_uri": "https://localhost:8080/",
          "height": 657
        },
        "id": "VcMuHUNAO5L7",
        "outputId": "e78bde0e-8557-4d59-aa17-ce17d9c36afe"
      },
      "outputs": [
        {
          "name": "stderr",
          "output_type": "stream",
          "text": [
            "C:\\Users\\ajayk\\AppData\\Local\\Temp\\ipykernel_17160\\932305282.py:7: FutureWarning: \n",
            "\n",
            "The `ci` parameter is deprecated. Use `errorbar='sd'` for the same effect.\n",
            "\n",
            "  sns.lineplot(data=z, marker='o', color='purple', ci='sd', err_style=\"band\", linewidth=2)\n",
            "C:\\Users\\ajayk\\anaconda3\\Lib\\site-packages\\seaborn\\_oldcore.py:1119: FutureWarning: use_inf_as_na option is deprecated and will be removed in a future version. Convert inf values to NaN before operating instead.\n",
            "  with pd.option_context('mode.use_inf_as_na', True):\n",
            "C:\\Users\\ajayk\\anaconda3\\Lib\\site-packages\\seaborn\\_oldcore.py:1119: FutureWarning: use_inf_as_na option is deprecated and will be removed in a future version. Convert inf values to NaN before operating instead.\n",
            "  with pd.option_context('mode.use_inf_as_na', True):\n"
          ]
        },
        {
          "data": {
            "image/png": "[encoded data removed]",
            "text/plain": [
              "<Figure size 1000x600 with 1 Axes>"
            ]
          },
          "metadata": {},
          "output_type": "display_data"
        }
      ],
      "source": [
        "import seaborn as sns\n",
        "import matplotlib.pyplot as plt\n",
        "\n",
        "# Assuming 'z' is your performance data\n",
        "plt.figure(figsize=(10, 6))\n",
        "\n",
        "sns.lineplot(data=z, marker='o', color='purple', linewidth=2)\n",
        "\n",
        "plt.title('Performance Score of Employees - Trend Analysis', fontsize=15)\n",
        "plt.xlabel(\"Performance Score\", fontsize=12)\n",
        "plt.ylabel(\"Values\", fontsize=12)\n",
        "\n",
        "plt.grid()\n",
        "plt.show()\n"
      ]
    },
    {
      "cell_type": "markdown",
      "id": "IeEiPF7q_qnq",
      "metadata": {
        "id": "IeEiPF7q_qnq"
      },
      "source": [
        "**Question 3: What is the general trend in employee performance scores?**\n",
        "\n",
        "Sample Answer: The graph shows that employee performance scores have been increasing over time. The line slopes upwards from left to right, indicating an overall positive trend.\n",
        "\n",
        "**Question 4: What is the range of performance scores?**\n",
        "\n",
        "Sample Answer: The range of performance scores is from 50 to 250. The y-axis of the graph is labeled \"Values\" and ranges from 50 to 250. The data points on the line graph also fall within this range."
      ]
    },
    {
      "cell_type": "markdown",
      "id": "5d4f422f",
      "metadata": {
        "id": "5d4f422f",
        "papermill": {
          "duration": 0.025889,
          "end_time": "2023-09-14T15:24:52.413701",
          "exception": false,
          "start_time": "2023-09-14T15:24:52.387812",
          "status": "completed"
        },
        "tags": []
      },
      "source": [
        "# Satisfaction of Employees\n",
        "\n",
        "* **Employees are asked to rate their job satisfaction on the scale of 1-5**\n",
        "\n",
        "* **Being an HR, manager, or head of the company, it is really difficult to look at the ratings of each and every employees**\n",
        "\n",
        "* **But we can make it possible with the help of the visualization**"
      ]
    },
    {
      "cell_type": "code",
      "execution_count": null,
      "id": "ac17fe9f",
      "metadata": {
        "colab": {
          "base_uri": "https://localhost:8080/"
        },
        "execution": {
          "iopub.execute_input": "2023-09-14T15:24:52.465184Z",
          "iopub.status.busy": "2023-09-14T15:24:52.464789Z",
          "iopub.status.idle": "2023-09-14T15:24:52.474074Z",
          "shell.execute_reply": "2023-09-14T15:24:52.473048Z"
        },
        "id": "ac17fe9f",
        "outputId": "813cc5cc-7c58-480e-b0ef-71dc653204e8",
        "papermill": {
          "duration": 0.037625,
          "end_time": "2023-09-14T15:24:52.476267",
          "exception": false,
          "start_time": "2023-09-14T15:24:52.438642",
          "status": "completed"
        },
        "tags": []
      },
      "outputs": [
        {
          "data": {
            "text/plain": [
              "EmpSatisfaction\n",
              "3    108\n",
              "5     98\n",
              "4     94\n",
              "2      9\n",
              "1      2\n",
              "Name: count, dtype: int64"
            ]
          },
          "execution_count": 26,
          "metadata": {},
          "output_type": "execute_result"
        }
      ],
      "source": [
        "b=df['EmpSatisfaction'].value_counts()\n",
        "b"
      ]
    },
    {
      "cell_type": "code",
      "execution_count": null,
      "id": "f72fa251",
      "metadata": {
        "colab": {
          "base_uri": "https://localhost:8080/",
          "height": 478
        },
        "execution": {
          "iopub.execute_input": "2023-09-14T15:24:52.528427Z",
          "iopub.status.busy": "2023-09-14T15:24:52.527280Z",
          "iopub.status.idle": "2023-09-14T15:24:52.734041Z",
          "shell.execute_reply": "2023-09-14T15:24:52.732930Z"
        },
        "id": "f72fa251",
        "outputId": "4d6e3c5c-abc6-41a5-c66f-4cbe46cbe440",
        "papermill": {
          "duration": 0.235433,
          "end_time": "2023-09-14T15:24:52.736464",
          "exception": false,
          "start_time": "2023-09-14T15:24:52.501031",
          "status": "completed"
        },
        "tags": []
      },
      "outputs": [
        {
          "data": {
            "image/png": "[encoded data removed]",
            "text/plain": [
              "<Figure size 640x480 with 1 Axes>"
            ]
          },
          "metadata": {},
          "output_type": "display_data"
        }
      ],
      "source": [
        "#A stem plot draws lines perpendicular to a baseline at each location locs from the baseline to heads,\n",
        "#and places a marker there. For vertical stem plots (the default), the locs are x positions, and the heads are y values.\n",
        "#For horizontal stem plots, the locs are y positions, and the heads are x value\n",
        "plt.stem(b.index,b)\n",
        "\n",
        "plt.ylabel(\"No. of Employees\",fontsize=12)\n",
        "\n",
        "plt.xticks(b.index)\n",
        "plt.xlabel(\"Rating Given\",fontsize=12)\n",
        "plt.title(\"Employee Satisfaction\",fontsize=15)\n",
        "\n",
        "plt.show()"
      ]
    },
    {
      "cell_type": "markdown",
      "id": "nHnB5MytB3Cx",
      "metadata": {
        "id": "nHnB5MytB3Cx"
      },
      "source": [
        "**Question 5: How many employees participated in the survey?**\n",
        "\n",
        "Sample Answer: On an average of 100 employees participated in the survey. This is the maximum value on the y-axis, which represents the number of employees.\n",
        "\n",
        "**Question 6: What is the most common rating given by employees?**\n",
        "\n",
        "Sample Answer: The most common rating given by employees is 3. This is the highest point on the graph, indicating that more employees gave this rating than any other."
      ]
    },
    {
      "cell_type": "markdown",
      "id": "oCv0rAMZQUd9",
      "metadata": {
        "id": "oCv0rAMZQUd9"
      },
      "source": [
        "# **Multi-varient Analysis**\n"
      ]
    },
    {
      "cell_type": "code",
      "execution_count": null,
      "id": "PfBKikbERurQ",
      "metadata": {
        "colab": {
          "base_uri": "https://localhost:8080/",
          "height": 860
        },
        "id": "PfBKikbERurQ",
        "outputId": "456aa05e-7c12-4904-b246-0fd4fef19de6"
      },
      "outputs": [
        {
          "data": {
            "image/png": "[encoded data removed]",
            "text/plain": [
              "<Figure size 1500x800 with 1 Axes>"
            ]
          },
          "metadata": {},
          "output_type": "display_data"
        }
      ],
      "source": [
        "plt.figure(figsize=(15, 8))\n",
        "sns.boxplot(x='Department', y='Salary', data=df, palette='viridis')\n",
        "plt.title(\"Box Plot - Salary by Department\", fontsize=15)\n",
        "plt.xlabel(\"Department\", fontsize=12)\n",
        "plt.ylabel(\"Salary\", fontsize=12)\n",
        "plt.xticks(rotation=45)\n",
        "plt.show()\n"
      ]
    },
    {
      "cell_type": "markdown",
      "id": "irafJh1JQ7sL",
      "metadata": {
        "id": "irafJh1JQ7sL"
      },
      "source": [
        "Comparing salary by each department. and analyzing it.\n",
        "\n",
        "1. you can see the highest salary paid person is from Execitives field.\n",
        "2. Least salary paid department is Production"
      ]
    },
    {
      "cell_type": "markdown",
      "id": "Rhv0sLpsCv_4",
      "metadata": {
        "id": "Rhv0sLpsCv_4"
      },
      "source": [
        "**Question 7: Are there any outliers in terms of salary?**\n",
        "\n",
        "Answer: Yes, there appear to be outliers in several departments. These are represented by the individual data points that fall outside the whiskers of the boxes. For example, there is one outlier in the \"Production\" department with a salary much higher than the rest.\n",
        "\n",
        "**Question 8: How do the salaries compare between different departments?**\n",
        "\n",
        "Answer: The graph shows that there is a significant difference in salary between departments. The median salaries for \"Executive Office\", \"Software Engineering\", and \"IT/AS\" are all considerably higher than the median salaries for \"Production\", \"Admin Offices\", and \"Sales\"."
      ]
    },
    {
      "cell_type": "code",
      "execution_count": null,
      "id": "9mDVV5ZsRggz",
      "metadata": {
        "colab": {
          "base_uri": "https://localhost:8080/",
          "height": 1000
        },
        "id": "9mDVV5ZsRggz",
        "outputId": "a34f523c-14ee-48bc-a4d2-45ffc81a9754"
      },
      "outputs": [
        {
          "name": "stderr",
          "output_type": "stream",
          "text": [
            "C:\\Users\\ajayk\\AppData\\Local\\Temp\\ipykernel_17160\\1915136983.py:5: FutureWarning: \n",
            "\n",
            "The `ci` parameter is deprecated. Use `errorbar=None` for the same effect.\n",
            "\n",
            "  sns.barplot(x='Position', y='EngagementSurvey', data=df, palette='muted', ci=None)\n"
          ]
        },
        {
          "data": {
            "image/png": "[encoded data removed]",
            "text/plain": [
              "<Figure size 1500x800 with 1 Axes>"
            ]
          },
          "metadata": {},
          "output_type": "display_data"
        }
      ],
      "source": [
        "import matplotlib.pyplot as plt\n",
        "import seaborn as sns\n",
        "\n",
        "plt.figure(figsize=(15, 8))\n",
        "sns.barplot(x='Position', y='EngagementSurvey', data=df, palette='muted')\n",
        "plt.title(\"Average Engagement Survey by Position\", fontsize=15)\n",
        "plt.xlabel(\"Position\", fontsize=12)\n",
        "plt.ylabel(\"Average Engagement Survey\", fontsize=12)\n",
        "plt.xticks(rotation=45)\n",
        "plt.show()\n"
      ]
    },
    {
      "cell_type": "markdown",
      "id": "v-mbEIDPDHu6",
      "metadata": {
        "id": "v-mbEIDPDHu6"
      },
      "source": [
        "**Question 9: Which positions have the highest and lowest median engagement survey scores?**\n",
        "\n",
        "Answer: The positions with the highest median engagement survey scores are \"President & CEO\" and \"Data Analyst\", with scores of around 90. The positions with the lowest median engagement survey scores are \"Network Engineer\" and \"Sr. Network Engineer\", with scores of around 65.\n",
        "\n",
        "**Question 10: Which positions have the largest and smallest spreads of engagement survey scores?**\n",
        "\n",
        "Answer: The positions with the largest spreads of engagement survey scores are \"Production Technician II\" and \"Software Engineering Manager\", with wider violin shapes. The positions with the smallest spreads of engagement survey scores are \"President & CEO\" and \"Data Analyst\", with narrower violin shapes."
      ]
    },
    {
      "cell_type": "code",
      "execution_count": null,
      "id": "ln_Lifx4Y6hk",
      "metadata": {
        "colab": {
          "base_uri": "https://localhost:8080/",
          "height": 570
        },
        "id": "ln_Lifx4Y6hk",
        "outputId": "758c188a-3aee-44c5-e904-91ff35cde1db"
      },
      "outputs": [
        {
          "data": {
            "image/png": "[encoded data removed]",
            "text/plain": [
              "<Figure size 1200x600 with 1 Axes>"
            ]
          },
          "metadata": {},
          "output_type": "display_data"
        }
      ],
      "source": [
        "plt.figure(figsize=(12, 6))\n",
        "sns.countplot(x='MaritalDesc', hue='GenderID', data=df, palette='pastel')\n",
        "plt.title(\"Marital Status Count by Gender\", fontsize=15)\n",
        "plt.xlabel(\"Marital Status\", fontsize=12)\n",
        "plt.ylabel(\"Count\", fontsize=12)\n",
        "plt.legend(title='Gender', loc='upper right')\n",
        "plt.show()\n"
      ]
    },
    {
      "cell_type": "code",
      "execution_count": null,
      "id": "MLs_XmkRZd2h",
      "metadata": {
        "colab": {
          "base_uri": "https://localhost:8080/"
        },
        "id": "MLs_XmkRZd2h",
        "outputId": "5b0f4d72-4012-454a-f36a-b4517bc80184"
      },
      "outputs": [
        {
          "name": "stdout",
          "output_type": "stream",
          "text": [
            "Requirement already satisfied: mlxtend in c:\\users\\ajayk\\anaconda3\\lib\\site-packages (0.23.1)\n",
            "Requirement already satisfied: scipy>=1.2.1 in c:\\users\\ajayk\\anaconda3\\lib\\site-packages (from mlxtend) (1.10.1)\n",
            "Requirement already satisfied: numpy>=1.16.2 in c:\\users\\ajayk\\anaconda3\\lib\\site-packages (from mlxtend) (1.24.3)\n",
            "Requirement already satisfied: pandas>=0.24.2 in c:\\users\\ajayk\\anaconda3\\lib\\site-packages (from mlxtend) (2.2.0)\n",
            "Requirement already satisfied: scikit-learn>=1.0.2 in c:\\users\\ajayk\\anaconda3\\lib\\site-packages (from mlxtend) (1.3.0)\n",
            "Requirement already satisfied: matplotlib>=3.0.0 in c:\\users\\ajayk\\anaconda3\\lib\\site-packages (from mlxtend) (3.7.1)\n",
            "Requirement already satisfied: joblib>=0.13.2 in c:\\users\\ajayk\\anaconda3\\lib\\site-packages (from mlxtend) (1.2.0)\n",
            "Requirement already satisfied: contourpy>=1.0.1 in c:\\users\\ajayk\\anaconda3\\lib\\site-packages (from matplotlib>=3.0.0->mlxtend) (1.0.5)\n",
            "Requirement already satisfied: cycler>=0.10 in c:\\users\\ajayk\\anaconda3\\lib\\site-packages (from matplotlib>=3.0.0->mlxtend) (0.11.0)\n",
            "Requirement already satisfied: fonttools>=4.22.0 in c:\\users\\ajayk\\anaconda3\\lib\\site-packages (from matplotlib>=3.0.0->mlxtend) (4.25.0)\n",
            "Requirement already satisfied: kiwisolver>=1.0.1 in c:\\users\\ajayk\\anaconda3\\lib\\site-packages (from matplotlib>=3.0.0->mlxtend) (1.4.4)\n",
            "Requirement already satisfied: packaging>=20.0 in c:\\users\\ajayk\\anaconda3\\lib\\site-packages (from matplotlib>=3.0.0->mlxtend) (23.0)\n",
            "Requirement already satisfied: pillow>=6.2.0 in c:\\users\\ajayk\\anaconda3\\lib\\site-packages (from matplotlib>=3.0.0->mlxtend) (9.4.0)\n",
            "Requirement already satisfied: pyparsing>=2.3.1 in c:\\users\\ajayk\\anaconda3\\lib\\site-packages (from matplotlib>=3.0.0->mlxtend) (3.0.9)\n",
            "Requirement already satisfied: python-dateutil>=2.7 in c:\\users\\ajayk\\anaconda3\\lib\\site-packages (from matplotlib>=3.0.0->mlxtend) (2.8.2)\n",
            "Requirement already satisfied: pytz>=2020.1 in c:\\users\\ajayk\\anaconda3\\lib\\site-packages (from pandas>=0.24.2->mlxtend) (2022.7)\n",
            "Requirement already satisfied: tzdata>=2022.7 in c:\\users\\ajayk\\anaconda3\\lib\\site-packages (from pandas>=0.24.2->mlxtend) (2023.4)\n",
            "Requirement already satisfied: threadpoolctl>=2.0.0 in c:\\users\\ajayk\\anaconda3\\lib\\site-packages (from scikit-learn>=1.0.2->mlxtend) (2.2.0)\n",
            "Requirement already satisfied: six>=1.5 in c:\\users\\ajayk\\anaconda3\\lib\\site-packages (from python-dateutil>=2.7->matplotlib>=3.0.0->mlxtend) (1.16.0)\n"
          ]
        }
      ],
      "source": [
        "!pip install mlxtend\n",
        "\n"
      ]
    },
    {
      "cell_type": "markdown",
      "id": "ROXbjOl_DF6r",
      "metadata": {
        "id": "ROXbjOl_DF6r"
      },
      "source": [
        "# Performing groupby operations"
      ]
    },
    {
      "cell_type": "markdown",
      "id": "NZV-xMEUDlpg",
      "metadata": {
        "id": "NZV-xMEUDlpg"
      },
      "source": [
        "**Question 1: What is the average engagement survey score for employees grouped by their department?**"
      ]
    },
    {
      "cell_type": "code",
      "execution_count": null,
      "id": "zWfp7Cw2DFoM",
      "metadata": {
        "id": "zWfp7Cw2DFoM"
      },
      "outputs": [],
      "source": [
        "# Code\n",
        "average_engagement_by_department = df.groupby('Department')['EngagementSurvey'].mean()\n"
      ]
    },
    {
      "cell_type": "code",
      "execution_count": null,
      "id": "BCSH4Nk5DVXI",
      "metadata": {
        "colab": {
          "base_uri": "https://localhost:8080/"
        },
        "id": "BCSH4Nk5DVXI",
        "outputId": "78f28098-8dca-47ef-f5fa-310a1ce69a93"
      },
      "outputs": [
        {
          "name": "stdout",
          "output_type": "stream",
          "text": [
            "Department\n",
            "Admin Offices           4.393333\n",
            "Executive Office        4.830000\n",
            "IT/IS                   4.154000\n",
            "Production              4.129569\n",
            "Sales                   3.818710\n",
            "Software Engineering    4.061818\n",
            "Name: EngagementSurvey, dtype: float64\n"
          ]
        }
      ],
      "source": [
        "print(average_engagement_by_department)"
      ]
    },
    {
      "cell_type": "markdown",
      "id": "D9T10kS4Dgxq",
      "metadata": {
        "id": "D9T10kS4Dgxq"
      },
      "source": [
        "**Question 2: How many employees have terminated from each position?**"
      ]
    },
    {
      "cell_type": "code",
      "execution_count": null,
      "id": "KdpTx713Dbug",
      "metadata": {
        "colab": {
          "base_uri": "https://localhost:8080/"
        },
        "id": "KdpTx713Dbug",
        "outputId": "0b770bb8-24f3-4999-85fa-5193045a7d98"
      },
      "outputs": [
        {
          "name": "stdout",
          "output_type": "stream",
          "text": [
            "Position\n",
            "Administrative Assistant     2\n",
            "Area Sales Manager           4\n",
            "Data Analyst                 1\n",
            "Data Analyst                 1\n",
            "Database Administrator       3\n",
            "Enterprise Architect         1\n",
            "IT Manager - DB              1\n",
            "Network Engineer             1\n",
            "Principal Data Architect     1\n",
            "Production Manager           5\n",
            "Production Technician I     52\n",
            "Production Technician II    26\n",
            "Sales Manager                1\n",
            "Software Engineer            4\n",
            "Sr. DBA                      1\n",
            "Name: Employee_Name, dtype: int64\n"
          ]
        }
      ],
      "source": [
        "terminated_employees_by_position = df[df['Termd'] == 1].groupby('Position')['Employee_Name'].count()\n",
        "print(terminated_employees_by_position)"
      ]
    },
    {
      "cell_type": "markdown",
      "id": "0ZfMwpZfDyr4",
      "metadata": {
        "id": "0ZfMwpZfDyr4"
      },
      "source": [
        "**Question 3: What is the median salary for male and female employees?**"
      ]
    },
    {
      "cell_type": "code",
      "execution_count": null,
      "id": "34kiOjULD4I0",
      "metadata": {
        "colab": {
          "base_uri": "https://localhost:8080/"
        },
        "id": "34kiOjULD4I0",
        "outputId": "fe0944be-3d5c-4e04-cd58-200cbc897f6e"
      },
      "outputs": [
        {
          "data": {
            "text/plain": [
              "Sex\n",
              "F     62066.5\n",
              "M     63353.0\n",
              "Name: Salary, dtype: float64"
            ]
          },
          "execution_count": 35,
          "metadata": {},
          "output_type": "execute_result"
        }
      ],
      "source": [
        "median_salary_by_gender = df.groupby('Sex')['Salary'].median()\n",
        "median_salary_by_gender"
      ]
    },
    {
      "cell_type": "markdown",
      "id": "A4MgNNhdD84s",
      "metadata": {
        "id": "A4MgNNhdD84s"
      },
      "source": [
        "**Question 4: How many employees have been terminated for each reason?**"
      ]
    },
    {
      "cell_type": "code",
      "execution_count": null,
      "id": "abN8DVOGECJL",
      "metadata": {
        "colab": {
          "base_uri": "https://localhost:8080/"
        },
        "id": "abN8DVOGECJL",
        "outputId": "2fd8b654-70ab-41b2-d07b-bde0430e4f3e"
      },
      "outputs": [
        {
          "data": {
            "text/plain": [
              "TermReason\n",
              "Another position                    20\n",
              "Fatal attraction                     1\n",
              "Learned that he is a gangster        1\n",
              "attendance                           7\n",
              "career change                        9\n",
              "gross misconduct                     1\n",
              "hours                                8\n",
              "maternity leave - did not return     3\n",
              "medical issues                       3\n",
              "military                             4\n",
              "more money                          11\n",
              "no-call, no-show                     4\n",
              "performance                          4\n",
              "relocation out of area               5\n",
              "retiring                             4\n",
              "return to school                     5\n",
              "unhappy                             14\n",
              "Name: Employee_Name, dtype: int64"
            ]
          },
          "execution_count": 36,
          "metadata": {},
          "output_type": "execute_result"
        }
      ],
      "source": [
        "termination_reason_counts = df[df['Termd'] == 1].groupby('TermReason')['Employee_Name'].count()\n",
        "termination_reason_counts"
      ]
    },
    {
      "cell_type": "markdown",
      "id": "X5D6goU4EOhk",
      "metadata": {
        "id": "X5D6goU4EOhk"
      },
      "source": [
        "**Question 5: What is the maximum number of absences taken by employees in each department?**"
      ]
    },
    {
      "cell_type": "code",
      "execution_count": null,
      "id": "8NEB8UzyESyY",
      "metadata": {
        "colab": {
          "base_uri": "https://localhost:8080/"
        },
        "id": "8NEB8UzyESyY",
        "outputId": "5a2dc8d0-7846-4c1b-d797-d00466b50ea4"
      },
      "outputs": [
        {
          "data": {
            "text/plain": [
              "Department\n",
              "Admin Offices           20\n",
              "Executive Office        10\n",
              "IT/IS                   20\n",
              "Production              20\n",
              "Sales                   20\n",
              "Software Engineering    19\n",
              "Name: Absences, dtype: int64"
            ]
          },
          "execution_count": 37,
          "metadata": {},
          "output_type": "execute_result"
        }
      ],
      "source": [
        "max_absences_by_department = df.groupby('Department')['Absences'].max()\n",
        "max_absences_by_department"
      ]
    },
    {
      "cell_type": "markdown",
      "id": "mLjljOVtFSZl",
      "metadata": {
        "id": "mLjljOVtFSZl"
      },
      "source": [
        "# Aggregation\n",
        "\n",
        "**Question 1: What are the total absences and average engagement survey score for each department?**"
      ]
    },
    {
      "cell_type": "code",
      "execution_count": null,
      "id": "ilktXDoqFW5A",
      "metadata": {
        "colab": {
          "base_uri": "https://localhost:8080/",
          "height": 269
        },
        "id": "ilktXDoqFW5A",
        "outputId": "18a7ac00-6497-4228-8c17-7015d07657ae"
      },
      "outputs": [
        {
          "data": {
            "text/html": [
              "<div>\n",
              "<style scoped>\n",
              "    .dataframe tbody tr th:only-of-type {\n",
              "        vertical-align: middle;\n",
              "    }\n",
              "\n",
              "    .dataframe tbody tr th {\n",
              "        vertical-align: top;\n",
              "    }\n",
              "\n",
              "    .dataframe thead th {\n",
              "        text-align: right;\n",
              "    }\n",
              "</style>\n",
              "<table border=\"1\" class=\"dataframe\">\n",
              "  <thead>\n",
              "    <tr style=\"text-align: right;\">\n",
              "      <th></th>\n",
              "      <th>Absences</th>\n",
              "      <th>EngagementSurvey</th>\n",
              "    </tr>\n",
              "    <tr>\n",
              "      <th>Department</th>\n",
              "      <th></th>\n",
              "      <th></th>\n",
              "    </tr>\n",
              "  </thead>\n",
              "  <tbody>\n",
              "    <tr>\n",
              "      <th>Admin Offices</th>\n",
              "      <td>78</td>\n",
              "      <td>4.393333</td>\n",
              "    </tr>\n",
              "    <tr>\n",
              "      <th>Executive Office</th>\n",
              "      <td>10</td>\n",
              "      <td>4.830000</td>\n",
              "    </tr>\n",
              "    <tr>\n",
              "      <th>IT/IS</th>\n",
              "      <td>522</td>\n",
              "      <td>4.154000</td>\n",
              "    </tr>\n",
              "    <tr>\n",
              "      <th>Production</th>\n",
              "      <td>2120</td>\n",
              "      <td>4.129569</td>\n",
              "    </tr>\n",
              "    <tr>\n",
              "      <th>Sales</th>\n",
              "      <td>358</td>\n",
              "      <td>3.818710</td>\n",
              "    </tr>\n",
              "    <tr>\n",
              "      <th>Software Engineering</th>\n",
              "      <td>96</td>\n",
              "      <td>4.061818</td>\n",
              "    </tr>\n",
              "  </tbody>\n",
              "</table>\n",
              "</div>"
            ],
            "text/plain": [
              "                      Absences  EngagementSurvey\n",
              "Department                                      \n",
              "Admin Offices               78          4.393333\n",
              "Executive Office            10          4.830000\n",
              "IT/IS                      522          4.154000\n",
              "Production                2120          4.129569\n",
              "Sales                      358          3.818710\n",
              "Software Engineering        96          4.061818"
            ]
          },
          "execution_count": 38,
          "metadata": {},
          "output_type": "execute_result"
        }
      ],
      "source": [
        "department_summary = df.groupby('Department').agg({'Absences': 'sum', 'EngagementSurvey': 'mean'})\n",
        "department_summary"
      ]
    },
    {
      "cell_type": "markdown",
      "id": "ypo2ZBdBFclp",
      "metadata": {
        "id": "ypo2ZBdBFclp"
      },
      "source": [
        "**Question 2: What is the maximum salary and minimum days late in the last 30 days for employees in each position**?"
      ]
    },
    {
      "cell_type": "code",
      "execution_count": null,
      "id": "QbTbj_QdFghN",
      "metadata": {
        "colab": {
          "base_uri": "https://localhost:8080/",
          "height": 1000
        },
        "id": "QbTbj_QdFghN",
        "outputId": "208cd69d-c4b4-4781-8718-135fdaeb9863"
      },
      "outputs": [
        {
          "data": {
            "text/html": [
              "<div>\n",
              "<style scoped>\n",
              "    .dataframe tbody tr th:only-of-type {\n",
              "        vertical-align: middle;\n",
              "    }\n",
              "\n",
              "    .dataframe tbody tr th {\n",
              "        vertical-align: top;\n",
              "    }\n",
              "\n",
              "    .dataframe thead th {\n",
              "        text-align: right;\n",
              "    }\n",
              "</style>\n",
              "<table border=\"1\" class=\"dataframe\">\n",
              "  <thead>\n",
              "    <tr style=\"text-align: right;\">\n",
              "      <th></th>\n",
              "      <th>Salary</th>\n",
              "      <th>DaysLateLast30</th>\n",
              "    </tr>\n",
              "    <tr>\n",
              "      <th>Position</th>\n",
              "      <th></th>\n",
              "      <th></th>\n",
              "    </tr>\n",
              "  </thead>\n",
              "  <tbody>\n",
              "    <tr>\n",
              "      <th>Accountant I</th>\n",
              "      <td>64520</td>\n",
              "      <td>0</td>\n",
              "    </tr>\n",
              "    <tr>\n",
              "      <th>Administrative Assistant</th>\n",
              "      <td>55000</td>\n",
              "      <td>0</td>\n",
              "    </tr>\n",
              "    <tr>\n",
              "      <th>Area Sales Manager</th>\n",
              "      <td>74326</td>\n",
              "      <td>0</td>\n",
              "    </tr>\n",
              "    <tr>\n",
              "      <th>BI Developer</th>\n",
              "      <td>99020</td>\n",
              "      <td>0</td>\n",
              "    </tr>\n",
              "    <tr>\n",
              "      <th>BI Director</th>\n",
              "      <td>110929</td>\n",
              "      <td>0</td>\n",
              "    </tr>\n",
              "    <tr>\n",
              "      <th>CIO</th>\n",
              "      <td>220450</td>\n",
              "      <td>0</td>\n",
              "    </tr>\n",
              "    <tr>\n",
              "      <th>Data Analyst</th>\n",
              "      <td>93554</td>\n",
              "      <td>0</td>\n",
              "    </tr>\n",
              "    <tr>\n",
              "      <th>Data Analyst</th>\n",
              "      <td>88527</td>\n",
              "      <td>0</td>\n",
              "    </tr>\n",
              "    <tr>\n",
              "      <th>Data Architect</th>\n",
              "      <td>150290</td>\n",
              "      <td>0</td>\n",
              "    </tr>\n",
              "    <tr>\n",
              "      <th>Database Administrator</th>\n",
              "      <td>114800</td>\n",
              "      <td>0</td>\n",
              "    </tr>\n",
              "    <tr>\n",
              "      <th>Director of Operations</th>\n",
              "      <td>170500</td>\n",
              "      <td>0</td>\n",
              "    </tr>\n",
              "    <tr>\n",
              "      <th>Director of Sales</th>\n",
              "      <td>180000</td>\n",
              "      <td>0</td>\n",
              "    </tr>\n",
              "    <tr>\n",
              "      <th>Enterprise Architect</th>\n",
              "      <td>103613</td>\n",
              "      <td>0</td>\n",
              "    </tr>\n",
              "    <tr>\n",
              "      <th>IT Director</th>\n",
              "      <td>178000</td>\n",
              "      <td>0</td>\n",
              "    </tr>\n",
              "    <tr>\n",
              "      <th>IT Manager - DB</th>\n",
              "      <td>148999</td>\n",
              "      <td>0</td>\n",
              "    </tr>\n",
              "    <tr>\n",
              "      <th>IT Manager - Infra</th>\n",
              "      <td>157000</td>\n",
              "      <td>4</td>\n",
              "    </tr>\n",
              "    <tr>\n",
              "      <th>IT Manager - Support</th>\n",
              "      <td>138888</td>\n",
              "      <td>0</td>\n",
              "    </tr>\n",
              "    <tr>\n",
              "      <th>IT Support</th>\n",
              "      <td>74679</td>\n",
              "      <td>0</td>\n",
              "    </tr>\n",
              "    <tr>\n",
              "      <th>Network Engineer</th>\n",
              "      <td>76029</td>\n",
              "      <td>0</td>\n",
              "    </tr>\n",
              "    <tr>\n",
              "      <th>President &amp; CEO</th>\n",
              "      <td>250000</td>\n",
              "      <td>0</td>\n",
              "    </tr>\n",
              "    <tr>\n",
              "      <th>Principal Data Architect</th>\n",
              "      <td>120000</td>\n",
              "      <td>0</td>\n",
              "    </tr>\n",
              "    <tr>\n",
              "      <th>Production Manager</th>\n",
              "      <td>88976</td>\n",
              "      <td>0</td>\n",
              "    </tr>\n",
              "    <tr>\n",
              "      <th>Production Technician I</th>\n",
              "      <td>64991</td>\n",
              "      <td>0</td>\n",
              "    </tr>\n",
              "    <tr>\n",
              "      <th>Production Technician II</th>\n",
              "      <td>74813</td>\n",
              "      <td>0</td>\n",
              "    </tr>\n",
              "    <tr>\n",
              "      <th>Sales Manager</th>\n",
              "      <td>72992</td>\n",
              "      <td>0</td>\n",
              "    </tr>\n",
              "    <tr>\n",
              "      <th>Senior BI Developer</th>\n",
              "      <td>87921</td>\n",
              "      <td>0</td>\n",
              "    </tr>\n",
              "    <tr>\n",
              "      <th>Shared Services Manager</th>\n",
              "      <td>93046</td>\n",
              "      <td>0</td>\n",
              "    </tr>\n",
              "    <tr>\n",
              "      <th>Software Engineer</th>\n",
              "      <td>108987</td>\n",
              "      <td>0</td>\n",
              "    </tr>\n",
              "    <tr>\n",
              "      <th>Software Engineering Manager</th>\n",
              "      <td>77692</td>\n",
              "      <td>0</td>\n",
              "    </tr>\n",
              "    <tr>\n",
              "      <th>Sr. Accountant</th>\n",
              "      <td>106367</td>\n",
              "      <td>0</td>\n",
              "    </tr>\n",
              "    <tr>\n",
              "      <th>Sr. DBA</th>\n",
              "      <td>104437</td>\n",
              "      <td>0</td>\n",
              "    </tr>\n",
              "    <tr>\n",
              "      <th>Sr. Network Engineer</th>\n",
              "      <td>107226</td>\n",
              "      <td>0</td>\n",
              "    </tr>\n",
              "  </tbody>\n",
              "</table>\n",
              "</div>"
            ],
            "text/plain": [
              "                              Salary  DaysLateLast30\n",
              "Position                                            \n",
              "Accountant I                   64520               0\n",
              "Administrative Assistant       55000               0\n",
              "Area Sales Manager             74326               0\n",
              "BI Developer                   99020               0\n",
              "BI Director                   110929               0\n",
              "CIO                           220450               0\n",
              "Data Analyst                   93554               0\n",
              "Data Analyst                   88527               0\n",
              "Data Architect                150290               0\n",
              "Database Administrator        114800               0\n",
              "Director of Operations        170500               0\n",
              "Director of Sales             180000               0\n",
              "Enterprise Architect          103613               0\n",
              "IT Director                   178000               0\n",
              "IT Manager - DB               148999               0\n",
              "IT Manager - Infra            157000               4\n",
              "IT Manager - Support          138888               0\n",
              "IT Support                     74679               0\n",
              "Network Engineer               76029               0\n",
              "President & CEO               250000               0\n",
              "Principal Data Architect      120000               0\n",
              "Production Manager             88976               0\n",
              "Production Technician I        64991               0\n",
              "Production Technician II       74813               0\n",
              "Sales Manager                  72992               0\n",
              "Senior BI Developer            87921               0\n",
              "Shared Services Manager        93046               0\n",
              "Software Engineer             108987               0\n",
              "Software Engineering Manager   77692               0\n",
              "Sr. Accountant                106367               0\n",
              "Sr. DBA                       104437               0\n",
              "Sr. Network Engineer          107226               0"
            ]
          },
          "execution_count": 39,
          "metadata": {},
          "output_type": "execute_result"
        }
      ],
      "source": [
        "position_summary = df.groupby('Position').agg({'Salary': 'max', 'DaysLateLast30': 'min'})\n",
        "position_summary"
      ]
    },
    {
      "cell_type": "markdown",
      "id": "LhntjCwkFnf-",
      "metadata": {
        "id": "LhntjCwkFnf-"
      },
      "source": [
        "**Question 3: How many terminated employees were there in each department and what is the average employee satisfaction level among them?**"
      ]
    },
    {
      "cell_type": "code",
      "execution_count": null,
      "id": "Wt3h8H5ZFsP2",
      "metadata": {
        "id": "Wt3h8H5ZFsP2"
      },
      "outputs": [],
      "source": [
        "terminated_summary = df[df['Termd'] == 1].groupby('Department').agg({'Employee_Name': 'count', 'EmpSatisfaction': 'mean'})\n",
        "terminated_summary.columns = ['Terminated_Count', 'Average_EmpSatisfaction']"
      ]
    },
    {
      "cell_type": "code",
      "execution_count": null,
      "id": "xiDQGInHFwY1",
      "metadata": {
        "colab": {
          "base_uri": "https://localhost:8080/",
          "height": 238
        },
        "id": "xiDQGInHFwY1",
        "outputId": "15eb5d6d-6619-48df-999d-6a5c84168908"
      },
      "outputs": [
        {
          "data": {
            "text/html": [
              "<div>\n",
              "<style scoped>\n",
              "    .dataframe tbody tr th:only-of-type {\n",
              "        vertical-align: middle;\n",
              "    }\n",
              "\n",
              "    .dataframe tbody tr th {\n",
              "        vertical-align: top;\n",
              "    }\n",
              "\n",
              "    .dataframe thead th {\n",
              "        text-align: right;\n",
              "    }\n",
              "</style>\n",
              "<table border=\"1\" class=\"dataframe\">\n",
              "  <thead>\n",
              "    <tr style=\"text-align: right;\">\n",
              "      <th></th>\n",
              "      <th>Terminated_Count</th>\n",
              "      <th>Average_EmpSatisfaction</th>\n",
              "    </tr>\n",
              "    <tr>\n",
              "      <th>Department</th>\n",
              "      <th></th>\n",
              "      <th></th>\n",
              "    </tr>\n",
              "  </thead>\n",
              "  <tbody>\n",
              "    <tr>\n",
              "      <th>Admin Offices</th>\n",
              "      <td>2</td>\n",
              "      <td>3.500000</td>\n",
              "    </tr>\n",
              "    <tr>\n",
              "      <th>IT/IS</th>\n",
              "      <td>10</td>\n",
              "      <td>3.600000</td>\n",
              "    </tr>\n",
              "    <tr>\n",
              "      <th>Production</th>\n",
              "      <td>83</td>\n",
              "      <td>3.855422</td>\n",
              "    </tr>\n",
              "    <tr>\n",
              "      <th>Sales</th>\n",
              "      <td>5</td>\n",
              "      <td>4.800000</td>\n",
              "    </tr>\n",
              "    <tr>\n",
              "      <th>Software Engineering</th>\n",
              "      <td>4</td>\n",
              "      <td>4.250000</td>\n",
              "    </tr>\n",
              "  </tbody>\n",
              "</table>\n",
              "</div>"
            ],
            "text/plain": [
              "                      Terminated_Count  Average_EmpSatisfaction\n",
              "Department                                                     \n",
              "Admin Offices                        2                 3.500000\n",
              "IT/IS                               10                 3.600000\n",
              "Production                          83                 3.855422\n",
              "Sales                                5                 4.800000\n",
              "Software Engineering                 4                 4.250000"
            ]
          },
          "execution_count": 41,
          "metadata": {},
          "output_type": "execute_result"
        }
      ],
      "source": [
        "terminated_summary"
      ]
    },
    {
      "cell_type": "markdown",
      "id": "38oIxASDF3Ka",
      "metadata": {
        "id": "38oIxASDF3Ka"
      },
      "source": [
        "**Question 4: What is the earliest and latest date of hire for employees in each manager's team?**"
      ]
    },
    {
      "cell_type": "code",
      "execution_count": null,
      "id": "lgkt9P8PGBGy",
      "metadata": {
        "colab": {
          "base_uri": "https://localhost:8080/",
          "height": 771
        },
        "id": "lgkt9P8PGBGy",
        "outputId": "ac421405-9b88-4ed1-df46-9fcc044ab4a8"
      },
      "outputs": [
        {
          "data": {
            "text/html": [
              "<div>\n",
              "<style scoped>\n",
              "    .dataframe tbody tr th:only-of-type {\n",
              "        vertical-align: middle;\n",
              "    }\n",
              "\n",
              "    .dataframe tbody tr th {\n",
              "        vertical-align: top;\n",
              "    }\n",
              "\n",
              "    .dataframe thead tr th {\n",
              "        text-align: left;\n",
              "    }\n",
              "\n",
              "    .dataframe thead tr:last-of-type th {\n",
              "        text-align: right;\n",
              "    }\n",
              "</style>\n",
              "<table border=\"1\" class=\"dataframe\">\n",
              "  <thead>\n",
              "    <tr>\n",
              "      <th></th>\n",
              "      <th colspan=\"2\" halign=\"left\">DateofHire</th>\n",
              "    </tr>\n",
              "    <tr>\n",
              "      <th></th>\n",
              "      <th>min</th>\n",
              "      <th>max</th>\n",
              "    </tr>\n",
              "    <tr>\n",
              "      <th>ManagerName</th>\n",
              "      <th></th>\n",
              "      <th></th>\n",
              "    </tr>\n",
              "  </thead>\n",
              "  <tbody>\n",
              "    <tr>\n",
              "      <th>Alex Sweetwater</th>\n",
              "      <td>1/9/2012</td>\n",
              "      <td>7/7/2014</td>\n",
              "    </tr>\n",
              "    <tr>\n",
              "      <th>Amy Dunn</th>\n",
              "      <td>1/10/2011</td>\n",
              "      <td>9/29/2014</td>\n",
              "    </tr>\n",
              "    <tr>\n",
              "      <th>Board of Directors</th>\n",
              "      <td>1/5/2009</td>\n",
              "      <td>7/2/2012</td>\n",
              "    </tr>\n",
              "    <tr>\n",
              "      <th>Brandon R. LeBlanc</th>\n",
              "      <td>1/6/2014</td>\n",
              "      <td>9/29/2014</td>\n",
              "    </tr>\n",
              "    <tr>\n",
              "      <th>Brannon Miller</th>\n",
              "      <td>1/10/2011</td>\n",
              "      <td>9/2/2008</td>\n",
              "    </tr>\n",
              "    <tr>\n",
              "      <th>Brian Champaigne</th>\n",
              "      <td>1/7/2017</td>\n",
              "      <td>4/20/2017</td>\n",
              "    </tr>\n",
              "    <tr>\n",
              "      <th>David Stanley</th>\n",
              "      <td>1/10/2011</td>\n",
              "      <td>9/29/2014</td>\n",
              "    </tr>\n",
              "    <tr>\n",
              "      <th>Debra Houlihan</th>\n",
              "      <td>11/7/2011</td>\n",
              "      <td>5/5/2014</td>\n",
              "    </tr>\n",
              "    <tr>\n",
              "      <th>Elijiah Gray</th>\n",
              "      <td>1/10/2011</td>\n",
              "      <td>9/29/2014</td>\n",
              "    </tr>\n",
              "    <tr>\n",
              "      <th>Eric Dougall</th>\n",
              "      <td>1/21/2011</td>\n",
              "      <td>9/5/2012</td>\n",
              "    </tr>\n",
              "    <tr>\n",
              "      <th>Janet King</th>\n",
              "      <td>1/10/2011</td>\n",
              "      <td>9/30/2013</td>\n",
              "    </tr>\n",
              "    <tr>\n",
              "      <th>Jennifer Zamora</th>\n",
              "      <td>1/20/2013</td>\n",
              "      <td>9/6/2016</td>\n",
              "    </tr>\n",
              "    <tr>\n",
              "      <th>John Smith</th>\n",
              "      <td>1/5/2015</td>\n",
              "      <td>9/29/2014</td>\n",
              "    </tr>\n",
              "    <tr>\n",
              "      <th>Kelley Spirea</th>\n",
              "      <td>1/10/2011</td>\n",
              "      <td>9/30/2013</td>\n",
              "    </tr>\n",
              "    <tr>\n",
              "      <th>Ketsia Liebig</th>\n",
              "      <td>1/10/2011</td>\n",
              "      <td>9/30/2013</td>\n",
              "    </tr>\n",
              "    <tr>\n",
              "      <th>Kissy Sullivan</th>\n",
              "      <td>1/10/2011</td>\n",
              "      <td>9/30/2013</td>\n",
              "    </tr>\n",
              "    <tr>\n",
              "      <th>Lynn Daneault</th>\n",
              "      <td>1/10/2011</td>\n",
              "      <td>9/6/2011</td>\n",
              "    </tr>\n",
              "    <tr>\n",
              "      <th>Michael Albert</th>\n",
              "      <td>1/5/2009</td>\n",
              "      <td>9/30/2013</td>\n",
              "    </tr>\n",
              "    <tr>\n",
              "      <th>Peter Monroe</th>\n",
              "      <td>1/5/2015</td>\n",
              "      <td>9/30/2014</td>\n",
              "    </tr>\n",
              "    <tr>\n",
              "      <th>Simon Roup</th>\n",
              "      <td>1/5/2015</td>\n",
              "      <td>7/7/2014</td>\n",
              "    </tr>\n",
              "    <tr>\n",
              "      <th>Webster Butler</th>\n",
              "      <td>1/10/2011</td>\n",
              "      <td>9/30/2013</td>\n",
              "    </tr>\n",
              "  </tbody>\n",
              "</table>\n",
              "</div>"
            ],
            "text/plain": [
              "                   DateofHire           \n",
              "                          min        max\n",
              "ManagerName                             \n",
              "Alex Sweetwater      1/9/2012   7/7/2014\n",
              "Amy Dunn            1/10/2011  9/29/2014\n",
              "Board of Directors   1/5/2009   7/2/2012\n",
              "Brandon R. LeBlanc   1/6/2014  9/29/2014\n",
              "Brannon Miller      1/10/2011   9/2/2008\n",
              "Brian Champaigne     1/7/2017  4/20/2017\n",
              "David Stanley       1/10/2011  9/29/2014\n",
              "Debra Houlihan      11/7/2011   5/5/2014\n",
              "Elijiah Gray        1/10/2011  9/29/2014\n",
              "Eric Dougall        1/21/2011   9/5/2012\n",
              "Janet King          1/10/2011  9/30/2013\n",
              "Jennifer Zamora     1/20/2013   9/6/2016\n",
              "John Smith           1/5/2015  9/29/2014\n",
              "Kelley Spirea       1/10/2011  9/30/2013\n",
              "Ketsia Liebig       1/10/2011  9/30/2013\n",
              "Kissy Sullivan      1/10/2011  9/30/2013\n",
              "Lynn Daneault       1/10/2011   9/6/2011\n",
              "Michael Albert       1/5/2009  9/30/2013\n",
              "Peter Monroe         1/5/2015  9/30/2014\n",
              "Simon Roup           1/5/2015   7/7/2014\n",
              "Webster Butler      1/10/2011  9/30/2013"
            ]
          },
          "execution_count": 42,
          "metadata": {},
          "output_type": "execute_result"
        }
      ],
      "source": [
        "manager_hire_dates = df.groupby('ManagerName').agg({'DateofHire': ['min', 'max']})\n",
        "manager_hire_dates"
      ]
    },
    {
      "cell_type": "markdown",
      "id": "wK0EdtQAGBaL",
      "metadata": {
        "id": "wK0EdtQAGBaL"
      },
      "source": [
        "**Question 5: What is the total number of special projects and average absences for employees in each gender category?**"
      ]
    },
    {
      "cell_type": "code",
      "execution_count": null,
      "id": "LsnlkceUGB2L",
      "metadata": {
        "colab": {
          "base_uri": "https://localhost:8080/",
          "height": 143
        },
        "id": "LsnlkceUGB2L",
        "outputId": "81b82d82-9efe-4187-cd1d-a7b31405b039"
      },
      "outputs": [
        {
          "data": {
            "text/html": [
              "<div>\n",
              "<style scoped>\n",
              "    .dataframe tbody tr th:only-of-type {\n",
              "        vertical-align: middle;\n",
              "    }\n",
              "\n",
              "    .dataframe tbody tr th {\n",
              "        vertical-align: top;\n",
              "    }\n",
              "\n",
              "    .dataframe thead th {\n",
              "        text-align: right;\n",
              "    }\n",
              "</style>\n",
              "<table border=\"1\" class=\"dataframe\">\n",
              "  <thead>\n",
              "    <tr style=\"text-align: right;\">\n",
              "      <th></th>\n",
              "      <th>SpecialProjectsCount</th>\n",
              "      <th>Absences</th>\n",
              "    </tr>\n",
              "    <tr>\n",
              "      <th>Sex</th>\n",
              "      <th></th>\n",
              "      <th></th>\n",
              "    </tr>\n",
              "  </thead>\n",
              "  <tbody>\n",
              "    <tr>\n",
              "      <th>F</th>\n",
              "      <td>183</td>\n",
              "      <td>10.261364</td>\n",
              "    </tr>\n",
              "    <tr>\n",
              "      <th>M</th>\n",
              "      <td>196</td>\n",
              "      <td>10.207407</td>\n",
              "    </tr>\n",
              "  </tbody>\n",
              "</table>\n",
              "</div>"
            ],
            "text/plain": [
              "     SpecialProjectsCount   Absences\n",
              "Sex                                 \n",
              "F                     183  10.261364\n",
              "M                     196  10.207407"
            ]
          },
          "execution_count": 43,
          "metadata": {},
          "output_type": "execute_result"
        }
      ],
      "source": [
        "gender_summary = df.groupby('Sex').agg({'SpecialProjectsCount': 'sum', 'Absences': 'mean'})\n",
        "gender_summary"
      ]
    },
    {
      "cell_type": "code",
      "execution_count": null,
      "id": "8NdDcHKvGCY7",
      "metadata": {
        "id": "8NdDcHKvGCY7"
      },
      "outputs": [],
      "source": []
    },
    {
      "cell_type": "markdown",
      "id": "7bcb0601",
      "metadata": {
        "id": "7bcb0601",
        "papermill": {
          "duration": 0.024845,
          "end_time": "2023-09-14T15:24:52.786442",
          "exception": false,
          "start_time": "2023-09-14T15:24:52.761597",
          "status": "completed"
        },
        "tags": []
      },
      "source": [
        "# Conclusion:\n",
        "\n",
        "\n",
        "* **In this notebook, we have performed HR analytics using the 'HR Dataset'**\n",
        "\n",
        "* **As a first step, we imported the necessary libraries, and then we imported the dataset in which we need to perform EDA**\n",
        "\n",
        "* **Before beginning with the analysis, we did some data manipulation as well**\n",
        "\n",
        "* **We performed various queries for analysing the data for insights and also to create visualization for appealing appearance and better understanding**\n",
        "\n",
        "* **Thus, we successfully did the HR Data Analytics and find the insights that could extremely help the company to take decisions as per the insights obtain, for the sake of their company**"
      ]
    },
    {
      "cell_type": "markdown",
      "id": "27c4d6d0",
      "metadata": {
        "id": "27c4d6d0",
        "papermill": {
          "duration": 0.024788,
          "end_time": "2023-09-14T15:24:52.836672",
          "exception": false,
          "start_time": "2023-09-14T15:24:52.811884",
          "status": "completed"
        },
        "tags": []
      },
      "source": [
        "**Some interesting insights from the analysis:**\n",
        "\n",
        "* **Indeed and LinkedIn are the top platforms from where the company hired most of the candidates**\n",
        "* **187 employees are unmarried, while 124 are married**\n",
        "* **As we can see,Out of 311 Employees 70 Employees have the experience of atleast 1 special project and remaining 241 Employees have not done any special project**\n",
        "* **13 employees are struggling to give their best performance, need a Performance Improvement Plan (PIP)**"
      ]
    },
    {
      "cell_type": "code",
      "execution_count": null,
      "id": "fO_KZ3onKWGq",
      "metadata": {
        "id": "fO_KZ3onKWGq"
      },
      "outputs": [],
      "source": []
    }
  ],
  "metadata": {
    "colab": {
      "provenance": []
    },
    "kernelspec": {
      "display_name": "Python 3 (ipykernel)",
      "language": "python",
      "name": "python3"
    },
    "language_info": {
      "codemirror_mode": {
        "name": "ipython",
        "version": 3
      },
      "file_extension": ".py",
      "mimetype": "text/x-python",
      "name": "python",
      "nbconvert_exporter": "python",
      "pygments_lexer": "ipython3",
      "version": "3.11.4"
    },
    "papermill": {
      "default_parameters": {},
      "duration": 10.72522,
      "end_time": "2023-09-14T15:24:53.482319",
      "environment_variables": {},
      "exception": null,
      "input_path": "__notebook__.ipynb",
      "output_path": "__notebook__.ipynb",
      "parameters": {},
      "start_time": "2023-09-14T15:24:42.757099",
      "version": "2.4.0"
    }
  },
  "nbformat": 4,
  "nbformat_minor": 5
}